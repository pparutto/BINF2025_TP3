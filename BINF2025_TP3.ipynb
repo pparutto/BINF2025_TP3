{
 "cells": [
  {
   "cell_type": "markdown",
   "metadata": {
    "id": "V09wQ1WIOmgn"
   },
   "source": [
    "# BINF TP3 - Algorithmes d'alignement par paire"
   ]
  },
  {
   "cell_type": "markdown",
   "metadata": {
    "id": "er6CtAyOxC6F"
   },
   "source": [
    "Dans ce TP nous allons manipuler les algorithmes d'alignement par paire."
   ]
  },
  {
   "cell_type": "markdown",
   "metadata": {
    "id": "BqEa3BJ1xICM"
   },
   "source": [
    "# Exercice 0 - Echauffement"
   ]
  },
  {
   "cell_type": "markdown",
   "metadata": {
    "id": "qqiiq5bcxYvM"
   },
   "source": [
    "Q1. Donnez le score de la superposition :\n",
    "\n",
    "|       |       |\n",
    "| :---: | :---: |\n",
    "x       | ATGTCATGA---TAC |\n",
    "y       | AT--CTAAATGTTAC |\n",
    "\n",
    "\n",
    "étant donne le schéma d'évaluation :\n",
    "\n",
    "|       | A     | T     | G     | C     |\n",
    "| :---: | :---: | :---: | :---: | :---: |\n",
    "| **A** | 1     | -1    | -1    | -1    |\n",
    "| **T** | -1    | 1     | -1    | -1    |\n",
    "| **G** | -1    | -1    | 1     | -1    |\n",
    "| **C** | -1    | -1    | -1    | 1     |\n",
    "\n",
    "et\n",
    "\n",
    "$\\gamma(g) = 0.5 |g| + 0.5$"
   ]
  },
  {
   "cell_type": "markdown",
   "metadata": {
    "id": "kCJGGGYQ2GNi"
   },
   "source": [
    "```markdown\n",
    "Score de substitution :\n",
    "    1 + 1 + 1 + (-1) + (-1) + (-1) + 1 + 1 + 1 + 1 = 4\n",
    "\n",
    "Pénalités : \n",
    "    γ(2) = 0.5|2| + 0.5 = 1.5\n",
    "    γ(3) = 0.5|3| + 0.5 = 2\n",
    "    1.5 + 2 = 3.5\n",
    "\n",
    "Score de superposition : \n",
    "    4 - 3.5 = 0.5\n",
    "```"
   ]
  },
  {
   "cell_type": "markdown",
   "metadata": {
    "id": "XyhXAhK-2NKJ"
   },
   "source": [
    "Q2. Alignez les séquences suivantes avec l'algorithme de Levenshtein :  x = ATG et y = ACTG."
   ]
  },
  {
   "cell_type": "markdown",
   "metadata": {
    "id": "b9iovhyZ2bXw"
   },
   "source": [
    "```markdown\n",
    "Distance entre les deux séquences : d(x, y) = 1\n",
    "Alignement :\n",
    "    A_TG\n",
    "    ACTG\n",
    "```"
   ]
  },
  {
   "cell_type": "markdown",
   "metadata": {
    "id": "OV_YaQHr2elB"
   },
   "source": [
    "Q3.\tAlignez les séquences suivantes avec l'algorithme de Needleman-Wunsch global x = TAT et y = ATGAC en considérant le schéma d'évaluation suivant\n",
    "\n",
    "|       | A       | T       | G       | C     |\n",
    "| :---: | :---:   | :---:   | :---:   | :---: |\n",
    "| **A** | 1       | -0.5    | -0.5    | -0.5  |\n",
    "| **T** | -0.5    | 1       | -0.5    | -0.5  |\n",
    "| **G** | -0.5    | -0.5    | 1       | -0.5  |\n",
    "| **C** | -0.5    | -0.5    | -0.5    | 1     |\n",
    "\n",
    "et\n",
    "\n",
    "$\\gamma(g) = 0.5 |g|$\n"
   ]
  },
  {
   "cell_type": "markdown",
   "metadata": {
    "id": "g_MrecVs3Nrw"
   },
   "source": [
    "```markdown\n",
    "Alignement : \n",
    "    _T_AT\n",
    "    ATGAC\n",
    "```"
   ]
  },
  {
   "cell_type": "markdown",
   "metadata": {
    "id": "y1YF-G6E3Qoo"
   },
   "source": [
    "Q4. Alignez les séquences suivantes avec l'algorithme de Smith-Waterman x = TTGG y = ATGAC en utilisant le schéma d'évaluation de la question précédente.\n"
   ]
  },
  {
   "cell_type": "markdown",
   "metadata": {
    "id": "LLMECocb3pgI"
   },
   "source": [
    "```markdown\n",
    "Votre réponse ici\n",
    "```"
   ]
  },
  {
   "cell_type": "markdown",
   "metadata": {
    "id": "46gw0avh3wGw"
   },
   "source": [
    "# Exercice 1 : Algorithme de Levenshtein - version récursive"
   ]
  },
  {
   "cell_type": "markdown",
   "metadata": {
    "id": "ZKc09Kyg4a6v"
   },
   "source": [
    "Q1. Ecrivez une fonction\n",
    "\n",
    "levenshtein(x: str, y: str) -> int\n",
    "\n",
    "qui retourne la distance de Levenshtein entre les séquences x et y en utilisant la  version récursive de l'algorithme."
   ]
  },
  {
   "cell_type": "code",
   "execution_count": 6,
   "metadata": {
    "id": "FJR69IEQ4aHv"
   },
   "outputs": [
    {
     "name": "stdout",
     "output_type": "stream",
     "text": [
      "3\n"
     ]
    }
   ],
   "source": [
    "def levenshteinRec(x, y, x_len, y_len):\n",
    "    if x_len == 0:\n",
    "        return y_len\n",
    "    if y_len == 0:\n",
    "        return x_len\n",
    "    if x[x_len - 1] == y[y_len - 1]:\n",
    "        return levenshteinRec(x, y, x_len - 1, y_len - 1)\n",
    "    return 1 + min(levenshteinRec(x, y, x_len, y_len - 1), min(levenshteinRec(x, y, x_len - 1, y_len), levenshteinRec(x, y, x_len - 1, y_len - 1)))\n",
    "\n",
    "def levenshtein(x, y):\n",
    "    x_len = len(x)\n",
    "    y_len = len(y)\n",
    "    return levenshteinRec(x, y, x_len, y_len)\n",
    "\n",
    "print(levenshtein(\"CCGT\", \"CGTCA\"))"
   ]
  },
  {
   "cell_type": "markdown",
   "metadata": {
    "id": "arFVwA6E5NWn"
   },
   "source": [
    "Q2. Vous pouvez tester votre code sur les exemples suivants:\n",
    "\n",
    "\n",
    "*   $L('CCAG', 'CA') = 2$\n",
    "*   $L('CCGT', 'CGTCA') = 3$\n",
    "*   $L(AY678264^*, OQ870305^*) = 310$\n",
    "\n",
    "$^*$ ids genbank de deux sequences."
   ]
  },
  {
   "cell_type": "markdown",
   "metadata": {
    "id": "erCpfG7O7BV-"
   },
   "source": [
    "# Exercice 2 : Algorithme de Smith-Waterman - version itérative"
   ]
  },
  {
   "cell_type": "markdown",
   "metadata": {
    "id": "rv2Y78y37IOd"
   },
   "source": [
    "Q1. Ecrivez la fonction\n",
    "\n",
    "sw_fwd(x: str, y: str, cmap: dict, sigma: array, (go, ge): list) -> (array, array)\n",
    "\n",
    "qui construit les matrices $S$ et $B$ en utilisant l'algorithme de Smith-Waterman pour aligner les séquences x et y suivant le schéma d'évaluation donné par la matrice de substitution $\\Sigma$ et la fonction d'évaluation des trous $\\gamma(n)= g_o + g_e \\times n$. Le dictionnaire cmap donne la position des différents nucléotides dans la matrice $\\Sigma$. La fonction retourne la paire de matrices de score $S$ et de retour $B$."
   ]
  },
  {
   "cell_type": "code",
   "execution_count": 30,
   "metadata": {
    "id": "njn3JB0b-WHj"
   },
   "outputs": [],
   "source": [
    "import numpy as np\n",
    "\n",
    "def sw_fwd(x, y, cmap, sigma, go, ge):\n",
    "    S = np.zeros((len(x) + 1, len(y) + 1))\n",
    "    B = np.zeros((len(x) + 1, len(y) + 1))\n",
    "    maxi = 0\n",
    "    max_pos = (0, 0)\n",
    "    for i in range(1, len(x) + 1):\n",
    "        for j in range(1, len(y) + 1):\n",
    "            match = S[i - 1, j - 1] + sigma[cmap[x[i - 1]], cmap[y[j - 1]]]  \n",
    "            gap_x = S[i - 1, j] - (go + ge)\n",
    "            gap_y = S[i, j - 1] - (go + ge)\n",
    "            scores = [0, match, gap_x, gap_y]\n",
    "            S[i, j] = max(scores)\n",
    "            B[i, j] = scores.index(S[i, j])\n",
    "            if S[i, j] > maxi:\n",
    "                maxi = S[i, j]\n",
    "                max_pos = (i, j)\n",
    "    return S, B"
   ]
  },
  {
   "cell_type": "markdown",
   "metadata": {
    "id": "55n8mt9U-Wai"
   },
   "source": [
    "Q2. Ecrivez la fonction\n",
    "\n",
    "sw_bwd(x: str, y: str, S: array, B: array) -> (str, str, float)\n",
    "\n",
    "qui effectue l'etape de retour de l'algorithme de Smith-Waterman etant donné les séquences $x$ et $y$ et les matrices de score $S$ et de retour $B$. La fonction retourne un tuple contenant les alignements des séquences x et y et le score de l'alignement."
   ]
  },
  {
   "cell_type": "code",
   "execution_count": 32,
   "metadata": {
    "id": "ij9JDpBm_UZ7"
   },
   "outputs": [],
   "source": [
    "def sw_bwd(x, y, S, B):\n",
    "    i, j = np.unravel_index(np.argmax(S), S.shape) \n",
    "    best_score = S[i, j]\n",
    "    align_x, align_y = \"\", \"\"\n",
    "    while B[i, j] != 0:  \n",
    "        if B[i, j] == 1:\n",
    "            align_x = x[i - 1] + align_x\n",
    "            align_y = y[j - 1] + align_y\n",
    "            i -= 1\n",
    "            j -= 1\n",
    "        elif B[i, j] == 2:\n",
    "            align_x = x[i - 1] + align_x\n",
    "            align_y = '-' + align_y\n",
    "            i -= 1\n",
    "        elif B[i, j] == 3:\n",
    "            align_x = '-' + align_x\n",
    "            align_y = y[j - 1] + align_y\n",
    "            j -= 1\n",
    "    return (align_x, align_y), best_score"
   ]
  },
  {
   "cell_type": "markdown",
   "metadata": {
    "id": "kwmxg2dxAiwS"
   },
   "source": [
    "Q3. Vous pouvez tester votre code en utilisant le schéma d'évaluation suivant :"
   ]
  },
  {
   "cell_type": "code",
   "execution_count": 33,
   "metadata": {
    "id": "JUtYRFTBAwwZ"
   },
   "outputs": [
    {
     "name": "stdout",
     "output_type": "stream",
     "text": [
      "('TCG', 'TAG')\n",
      "1.5\n"
     ]
    }
   ],
   "source": [
    "cmap = {\"A\": 0, \"T\": 1, \"G\": 2, \"C\": 3}\n",
    "m = np.array([[1, -0.5, -0.5, -0.5],\n",
    "              [-0.5, 1, -0.5, -0.5],\n",
    "              [-0.5, -0.5, 1, -0.5],\n",
    "              [-0.5, -0.5, -0.5, 1]])\n",
    "go = 0\n",
    "ge = 0.5\n",
    "S, B = sw_fwd(\"TCGC\", \"CTTAG\", cmap, m, go, ge)\n",
    "t, s = sw_bwd(\"TCGC\", \"CTTAG\", S, B)\n",
    "print(t)\n",
    "print(s)"
   ]
  },
  {
   "cell_type": "markdown",
   "metadata": {
    "id": "eMGh4K5aIFxE"
   },
   "source": [
    "*   $SW('TCGC', 'CTTAG')$ retourne un score de $1.5$ à la position $(3,5)$ et l'alignement"
   ]
  },
  {
   "cell_type": "code",
   "execution_count": null,
   "metadata": {
    "colab": {
     "base_uri": "https://localhost:8080/",
     "height": 60
    },
    "id": "joHNwJ9AIf6F",
    "jupyter": {
     "source_hidden": true
    },
    "outputId": "a9206810-a083-4d86-8b14-38183f1dd80c"
   },
   "outputs": [
    {
     "data": {
      "text/html": [
       "<table align='left' style='font-family:Courier New'><tr><th>x:</th><th>TCG</th></tr><tr><th>y:</th><th>TAG</th></tr></table>"
      ],
      "text/plain": [
       "<IPython.core.display.HTML object>"
      ]
     },
     "execution_count": 18,
     "metadata": {},
     "output_type": "execute_result"
    }
   ],
   "source": [
    "HTML(\"<table align='left' style='font-family:Courier New'><tr><th>x:</th><th>TCG</th></tr><tr><th>y:</th><th>TAG</th></tr></table>\")"
   ]
  },
  {
   "cell_type": "markdown",
   "metadata": {
    "id": "JJlU5yvZI43D"
   },
   "source": [
    "*   $SW(AY678264^*, OQ870305^*)$ retourne un score de $342.1$ à la position $(708,717)$ et l'alignement"
   ]
  },
  {
   "cell_type": "code",
   "execution_count": null,
   "metadata": {
    "colab": {
     "base_uri": "https://localhost:8080/",
     "height": 80
    },
    "id": "HUELvWKMFtIO",
    "outputId": "976bab6f-f1fc-4c5a-c69c-8de02fc838d0"
   },
   "outputs": [
    {
     "data": {
      "text/html": [
       "<table width='300px' align='left' style='font-family:Courier New'><tr><th>x:</th><th nowrap='nowrap'>ATGGTGAGCAAGGGCGAGGAGGATAACATGGCCATCATCAAGGAGTTCATGCGCTTCAAGGTGC-A-CATGGAGGGCTCCGTGAACGGCCACGAGTTCGAGATCGAG---GGCGAGGGCGAGGGC--CGCC-CCTACGAGGGCACCCAGACCGC-CAAGCTGAAGGTG-ACCA-AGG---G-TGGCC---CCCT-GCCCTTCGCCT-GGGA-CATCCTGTCC--C--C-T-CAGTTCATGT-A-CGGCT-CCAAGGCCTACGTG-A--AGCAC--C--C--C--G-CCGACATCCCCG-A--CTAC-T--TGAAGCTG-TCCTTC--C--C-----CGA-GG--GCTTCAAGTGGGAGCG-CGTGATGAACTTCGAGGACGGCGGCGTGGTG-ACCG--T-GA-C-CCAGGAC-TC--CTCCCTGCAGGACGGCGAGTTCATCTACAAGGTG---AAGCTGCGCGGCACCAACTTCCCCT-CCGACGGCCCCGTA-ATGCA-GAAGAAGACCATGGGCTG--GGA-GGCCTCCTCCGAGCGGATGTACCCCGAGGA-CGGCGCC-CTGAAGGGCGAGATCAAGCAGA-GGCTGAAGC-TGAAGGACGGCGGCCACTACGACGCTGAGGTCAAGACCACCTACA-AGGCCAAGAAG-CCCGTGCAGCTGCCCGGC-GCCTACAACGTCAACATCAAGT-TG----GA-CATCACCTCCCACAACGAGGA-CTAC-A-C-CA---T-C-G-TGGAACAGTACG-AACGCGCCGAGGGCCGCCACTCCAC-CGGCGGCATGGACGAGCTGTACAAG</th></tr><tr><th>y:</th><th>ATGGTGAGCAAGGGCGAGGA-G----C-T-G--TTCA-C-CGG-GGTGGTGCCCATCCTGGT-CGAGC-TGGACGGCGACGTAAACGGCCACAAGTTC-AG--CGTGTCCGGCGAGGGCGAGGGCGATGCCACCTAC---GGCAAGCTGACC-CTGAAG-TTCATTTGCACCACCGGCAAGCTGCCCGTGCCCTGGCCC-AC-CCTCGTGACCACCCTGACCTACGGCGTGCAGTGC-T-TCAGCCGCTACCCCGACC-ACATGAAGCAGCACGACTTCTTCAAGTCCGCCATGCCCGAAGGCTACGTCCAGGAGC-GCACCATCTTCTTCAAGGACGACGGCAACTACAAGA-CCCGCGCCGAGGTGAAGTTCGAGGGCGACACCCTGGTGAACCGCATCGAGCTGAAGGGCATCGACTTCAAGGAGGACGGC-A--ACATC--C-TGGGGCACAAGCTG-G-AGTA-CAACTACAACAGCC-ACAACGTC-TATAT-CATG--GCCGA-CAA--GCAGAAGAACGG-CA--T-C-A-AGG-TGAACTTC-AAGATC--CGCCAC--AA---C---ATCGAG--GACGGC---AGCGTGCAGCTCGCCGACCACTACCA-GC--A-G--AACACC-CC--CATCGGCGACG--GCCCCGTGCTGCTGCCCGACAACC-ACTACCTGAGCACCCAGTCCGCCCTGAGCAA-A-GACCC-CAACGAGAAGC-GCGATCACATGGTCCTGCTGG---AGTTCGTGAC-CGCC----GCCGGGA-T-CACTC-TCGGCATGGACGAGCTGTACAAG</th></tr></table>"
      ],
      "text/plain": [
       "<IPython.core.display.HTML object>"
      ]
     },
     "execution_count": 15,
     "metadata": {},
     "output_type": "execute_result"
    }
   ],
   "source": [
    "from IPython.display import HTML\n",
    "HTML(\"<table width='300px' align='left' style='font-family:Courier New'><tr><th>x:</th><th nowrap='nowrap'>ATGGTGAGCAAGGGCGAGGAGGATAACATGGCCATCATCAAGGAGTTCATGCGCTTCAAGGTGC-A-CATGGAGGGCTCCGTGAACGGCCACGAGTTCGAGATCGAG---GGCGAGGGCGAGGGC--CGCC-CCTACGAGGGCACCCAGACCGC-CAAGCTGAAGGTG-ACCA-AGG---G-TGGCC---CCCT-GCCCTTCGCCT-GGGA-CATCCTGTCC--C--C-T-CAGTTCATGT-A-CGGCT-CCAAGGCCTACGTG-A--AGCAC--C--C--C--G-CCGACATCCCCG-A--CTAC-T--TGAAGCTG-TCCTTC--C--C-----CGA-GG--GCTTCAAGTGGGAGCG-CGTGATGAACTTCGAGGACGGCGGCGTGGTG-ACCG--T-GA-C-CCAGGAC-TC--CTCCCTGCAGGACGGCGAGTTCATCTACAAGGTG---AAGCTGCGCGGCACCAACTTCCCCT-CCGACGGCCCCGTA-ATGCA-GAAGAAGACCATGGGCTG--GGA-GGCCTCCTCCGAGCGGATGTACCCCGAGGA-CGGCGCC-CTGAAGGGCGAGATCAAGCAGA-GGCTGAAGC-TGAAGGACGGCGGCCACTACGACGCTGAGGTCAAGACCACCTACA-AGGCCAAGAAG-CCCGTGCAGCTGCCCGGC-GCCTACAACGTCAACATCAAGT-TG----GA-CATCACCTCCCACAACGAGGA-CTAC-A-C-CA---T-C-G-TGGAACAGTACG-AACGCGCCGAGGGCCGCCACTCCAC-CGGCGGCATGGACGAGCTGTACAAG</th></tr><tr><th>y:</th><th>ATGGTGAGCAAGGGCGAGGA-G----C-T-G--TTCA-C-CGG-GGTGGTGCCCATCCTGGT-CGAGC-TGGACGGCGACGTAAACGGCCACAAGTTC-AG--CGTGTCCGGCGAGGGCGAGGGCGATGCCACCTAC---GGCAAGCTGACC-CTGAAG-TTCATTTGCACCACCGGCAAGCTGCCCGTGCCCTGGCCC-AC-CCTCGTGACCACCCTGACCTACGGCGTGCAGTGC-T-TCAGCCGCTACCCCGACC-ACATGAAGCAGCACGACTTCTTCAAGTCCGCCATGCCCGAAGGCTACGTCCAGGAGC-GCACCATCTTCTTCAAGGACGACGGCAACTACAAGA-CCCGCGCCGAGGTGAAGTTCGAGGGCGACACCCTGGTGAACCGCATCGAGCTGAAGGGCATCGACTTCAAGGAGGACGGC-A--ACATC--C-TGGGGCACAAGCTG-G-AGTA-CAACTACAACAGCC-ACAACGTC-TATAT-CATG--GCCGA-CAA--GCAGAAGAACGG-CA--T-C-A-AGG-TGAACTTC-AAGATC--CGCCAC--AA---C---ATCGAG--GACGGC---AGCGTGCAGCTCGCCGACCACTACCA-GC--A-G--AACACC-CC--CATCGGCGACG--GCCCCGTGCTGCTGCCCGACAACC-ACTACCTGAGCACCCAGTCCGCCCTGAGCAA-A-GACCC-CAACGAGAAGC-GCGATCACATGGTCCTGCTGG---AGTTCGTGAC-CGCC----GCCGGGA-T-CACTC-TCGGCATGGACGAGCTGTACAAG</th></tr></table>\")"
   ]
  },
  {
   "cell_type": "markdown",
   "metadata": {
    "id": "Q5jVeLfgMMtA"
   },
   "source": [
    "# Exercice 3 : Distribution des scores d’alignement pour des séquences aléatoires\n",
    "\n",
    "Pour tester si un alignement reflète une réelle similarité biologique, on va évaluer la distribution des scores d’alignement pour des paires de séquences aléatoires."
   ]
  },
  {
   "cell_type": "markdown",
   "metadata": {
    "id": "6xyXw0HsMQGf"
   },
   "source": [
    "Q1. En considérant deux séquences aléatoires de même taille N, où chaque nucléotide apparaît avec une probabilité uniforme de ¼, calculer le score moyen attendu pour une superposition sans trou dans le cas où une identité vaut +1 et une différence vaut 0."
   ]
  },
  {
   "cell_type": "markdown",
   "metadata": {
    "id": "meF18gt-Mhcn"
   },
   "source": [
    "```markdown\n",
    "Votre réponse ici\n",
    "```"
   ]
  },
  {
   "cell_type": "markdown",
   "metadata": {
    "id": "fP5_mHnYMkNI"
   },
   "source": [
    "Q2. La question précédente peut se resoudre analytiquement car on ne considère pas de trou. Pour étendre le résultat precedent à un alignement avec trous, on va se baser sur la simulation de séquences aleatoires.\n",
    "\n",
    "Générez $R$ paires de séquences aléatoires  de tailles $N$ avec des probabilitées uniformes d'apparition de nucléotides $p_A = p_T = p_G = p_C = $ ¼. Affichez sous forme de violinplots les distribution des scores d'alignements entre chaque paire, obtenu par :\n",
    "  1. un alignement sans trou (cf. Q1) ;\n",
    "  2. un alignement local via Smith-Waterman (utilisez le code de l'exercice précédent)\n",
    "\n",
    "Utilisez le schéma d'évaluation suivant :"
   ]
  },
  {
   "cell_type": "code",
   "execution_count": null,
   "metadata": {
    "id": "akUVqotnOLkH"
   },
   "outputs": [],
   "source": [
    "rmap = {\"A\": 0, \"T\": 1, \"G\": 2, \"C\": 3}\n",
    "sigma = np.array([[1, -0.5, -0.5, -0.5],\n",
    "                  [-0.5, 1, -0.5, -0.5],\n",
    "                  [-0.5, -0.5, 1, -0.5],\n",
    "                  [-0.5, -0.5, -0.5, 1]])\n",
    "go =0\n",
    "ge = 0.5"
   ]
  },
  {
   "cell_type": "code",
   "execution_count": null,
   "metadata": {
    "id": "UX0afNaqOVZ2"
   },
   "outputs": [],
   "source": [
    "#Votre code ici"
   ]
  },
  {
   "cell_type": "markdown",
   "metadata": {
    "id": "UNn9fUuXO4Le"
   },
   "source": [
    "Q3. Qu'observez-vous ?"
   ]
  },
  {
   "cell_type": "markdown",
   "metadata": {
    "id": "dSQEl0XXO8IG"
   },
   "source": [
    "```markdown\n",
    "Votre réponse ici\n",
    "```"
   ]
  },
  {
   "cell_type": "markdown",
   "metadata": {
    "id": "xHfVXpQhf15n"
   },
   "source": [
    "Q4. Quelle conclusion peut-on en tirer sur la significativité d'un alignement ?"
   ]
  },
  {
   "cell_type": "markdown",
   "metadata": {
    "id": "5KjhEeHDgDns"
   },
   "source": [
    "```markdown\n",
    "Votre réponse ici\n",
    "```"
   ]
  }
 ],
 "metadata": {
  "colab": {
   "authorship_tag": "ABX9TyNSXnqaXAUgZK9rmJ1TWbGo",
   "provenance": []
  },
  "kernelspec": {
   "display_name": "Python 3 (ipykernel)",
   "language": "python",
   "name": "python3"
  },
  "language_info": {
   "codemirror_mode": {
    "name": "ipython",
    "version": 3
   },
   "file_extension": ".py",
   "mimetype": "text/x-python",
   "name": "python",
   "nbconvert_exporter": "python",
   "pygments_lexer": "ipython3",
   "version": "3.10.12"
  }
 },
 "nbformat": 4,
 "nbformat_minor": 4
}
