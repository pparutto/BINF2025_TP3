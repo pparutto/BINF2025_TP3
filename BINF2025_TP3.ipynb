{
 "cells": [
  {
   "cell_type": "markdown",
   "metadata": {
    "id": "V09wQ1WIOmgn"
   },
   "source": [
    "# BINF TP3 - Algorithmes d'alignement par paire"
   ]
  },
  {
   "cell_type": "markdown",
   "metadata": {
    "id": "er6CtAyOxC6F"
   },
   "source": [
    "Dans ce TP nous allons manipuler les algorithmes d'alignement par paire."
   ]
  },
  {
   "cell_type": "markdown",
   "metadata": {
    "id": "kCJGGGYQ2GNi"
   },
   "source": [
    "_________________________________________________________________________\n",
    "\n",
    "Hello Professor,\n",
    "\n",
    "Yes, the code of the few exercises showed underneath is made through chatGPT.\n",
    "I was to lazy to write them and to be fair, we have a few project to do at the same time and I don't want redo a ING1.\n",
    "Futhermore I would not be sure of finishing the tp elsewise because I code pretty slowly.\n",
    "\n",
    "But all the non code question where made by hand.\n",
    "\n",
    "And I always re-read the code to make sure I understand everything, make sure there is no weird things happening and that I understand everything.\n",
    "\n",
    "Still, I want to point out I didn't understand how to traduce those sequences x = \"𝐴𝑌678264∗\". And thus those parts are wrong.\n",
    "\n",
    "Sincerly,\n",
    "\n",
    "David GONCALVES\n",
    "\n",
    "_________________________________________________________________________"
   ]
  },
  {
   "cell_type": "markdown",
   "metadata": {
    "id": "BqEa3BJ1xICM"
   },
   "source": [
    "# Exercice 0 - Echauffement"
   ]
  },
  {
   "cell_type": "markdown",
   "metadata": {
    "id": "qqiiq5bcxYvM"
   },
   "source": [
    "Q1. Donnez le score de la superposition :\n",
    "\n",
    "|       |       |\n",
    "| :---: | :---: |\n",
    "x       | ATGTCATGA---TAC |\n",
    "y       | AT--CTAAATGTTAC |\n",
    "\n",
    "\n",
    "étant donne le schéma d'évaluation :\n",
    "\n",
    "|       | A     | T     | G     | C     |\n",
    "| :---: | :---: | :---: | :---: | :---: |\n",
    "| **A** | 1     | -1    | -1    | -1    |\n",
    "| **T** | -1    | 1     | -1    | -1    |\n",
    "| **G** | -1    | -1    | 1     | -1    |\n",
    "| **C** | -1    | -1    | -1    | 1     |\n",
    "\n",
    "et\n",
    "\n",
    "$\\gamma(g) = 0.5 |g| + 0.5$"
   ]
  },
  {
   "cell_type": "markdown",
   "metadata": {
    "id": "kCJGGGYQ2GNi"
   },
   "source": [
    "```markdown\n",
    "We have 3 gaps for x and 2 gaps for y:\n",
    "\n",
    "y(5) = 0.5 * 5 = 2.5 (not affine, linear, so it's the same than doing them separately)\n",
    "\n",
    "and for the association we have:\n",
    "\n",
    "7 - 3 = 4\n",
    "\n",
    "so the score is:\n",
    "\n",
    "score(x, y) = 4 - 2.5 = 1.5\n",
    "```"
   ]
  },
  {
   "cell_type": "markdown",
   "metadata": {
    "id": "XyhXAhK-2NKJ"
   },
   "source": [
    "Q2. Alignez les séquences suivantes avec l'algorithme de Levenshtein :  x = ATG et y = ACTG."
   ]
  },
  {
   "cell_type": "markdown",
   "metadata": {
    "id": "b9iovhyZ2bXw"
   },
   "source": [
    "```markdown\n",
    "\n",
    "  O A T G\n",
    "O 0 1 2 3\n",
    "A 1 0 1 2\n",
    "C 2 1 1 2\n",
    "T 3 2 1 2\n",
    "G 4 3 2 1\n",
    "\n",
    "  O A T G\n",
    "O 0 - - -\n",
    "A | \\ - -\n",
    "C | | \\ -\n",
    "T | | \\ \\\n",
    "G | | | \\\n",
    "\n",
    "So the we do:\n",
    "\n",
    "GG - TT - CA - AA - 00\n",
    "GTCA\n",
    "Insertion of C\n",
    "```"
   ]
  },
  {
   "cell_type": "markdown",
   "metadata": {
    "id": "OV_YaQHr2elB"
   },
   "source": [
    "Q3.\tAlignez les séquences suivantes avec l'algorithme de Needleman-Wunsch global x = TAT et y = ATGAC en considérant le schéma d'évaluation suivant\n",
    "\n",
    "|       | A       | T       | G       | C     |\n",
    "| :---: | :---:   | :---:   | :---:   | :---: |\n",
    "| **A** | 1       | -0.5    | -0.5    | -0.5  |\n",
    "| **T** | -0.5    | 1       | -0.5    | -0.5  |\n",
    "| **G** | -0.5    | -0.5    | 1       | -0.5  |\n",
    "| **C** | -0.5    | -0.5    | -0.5    | 1     |\n",
    "\n",
    "et\n",
    "\n",
    "$\\gamma(g) = 0.5 |g|$\n"
   ]
  },
  {
   "cell_type": "markdown",
   "metadata": {
    "id": "g_MrecVs3Nrw"
   },
   "source": [
    "```markdown\n",
    "  0     A     T     G     A     C\n",
    "0 0     -0.5  -1    -1.5  -2    -2.5\n",
    "T -0.5  -0.5  0.5   0     -0.5  -1\n",
    "A -1    0.5   0     0     1     -0.5\n",
    "T -1.5  0     1.5   1     0.5   0.5  \n",
    "\n",
    "  0 A T G A C\n",
    "0 0 - - - - -\n",
    "T | \\ \\ - - -\n",
    "A | \\ \\ - \\ -\n",
    "T | | \\ - - \\\n",
    "\n",
    "_T_AT\n",
    "ATGAC\n",
    "```"
   ]
  },
  {
   "cell_type": "markdown",
   "metadata": {
    "id": "y1YF-G6E3Qoo"
   },
   "source": [
    "Q4. Alignez les séquences suivantes avec l'algorithme de Smith-Waterman x = TTGG y = ATGAC en utilisant le schéma d'évaluation de la question précédente.\n"
   ]
  },
  {
   "cell_type": "markdown",
   "metadata": {
    "id": "LLMECocb3pgI"
   },
   "source": [
    "```markdown\n",
    "  0     A     T     G     A     C\n",
    "0 0     -0.5  -1    -1.5  -2    -2.5\n",
    "T -0.5  -0.5  0.5   0     -0.5  -1\n",
    "T -1    -1    0.5   0     -0.5  -1\n",
    "G -1.5  -1.5  0     1.5   1     0.5\n",
    "G -2    -2    -0.5  1     1     0.5\n",
    "\n",
    "  0 A T G A C\n",
    "0 0 - - - - -\n",
    "T | \\ \\ - - -\n",
    "T | \\ \\ \\ \\ \\\n",
    "G | \\ | \\ - -\n",
    "G | \\ | \\ \\ \\\n",
    "\n",
    "\n",
    "\n",
    "```"
   ]
  },
  {
   "cell_type": "markdown",
   "metadata": {
    "id": "46gw0avh3wGw"
   },
   "source": [
    "# Exercice 1 : Algorithme de Levenshtein - version récursive"
   ]
  },
  {
   "cell_type": "markdown",
   "metadata": {
    "id": "ZKc09Kyg4a6v"
   },
   "source": [
    "Q1. Ecrivez une fonction\n",
    "\n",
    "levenshtein(x: str, y: str) -> int\n",
    "\n",
    "qui retourne la distance de Levenshtein entre les séquences x et y en utilisant la  version récursive de l'algorithme."
   ]
  },
  {
   "cell_type": "code",
   "execution_count": 36,
   "metadata": {
    "id": "FJR69IEQ4aHv"
   },
   "outputs": [
    {
     "name": "stdout",
     "output_type": "stream",
     "text": [
      "Levenshtein Distance: 4\n",
      "Aligned X: ATGT-CATGATAC\n",
      "Aligned Y: ATCTAAATGTTAC\n"
     ]
    }
   ],
   "source": [
    "import numpy as np\n",
    "\n",
    "def levenshtein(x: str, y: str):\n",
    "    m, n = len(x), len(y)\n",
    "    \n",
    "    # Initialize matrices\n",
    "    S = np.zeros((m + 1, n + 1), dtype=int)\n",
    "    B = np.empty((m + 1, n + 1), dtype=object)\n",
    "    \n",
    "    # Fill first row and first column\n",
    "    for i in range(1, m + 1):\n",
    "        S[i, 0] = i\n",
    "        B[i, 0] = (i - 1, 0)  # Up\n",
    "    \n",
    "    for j in range(1, n + 1):\n",
    "        S[0, j] = j\n",
    "        B[0, j] = (0, j - 1)  # Left\n",
    "    \n",
    "    # Fill matrices\n",
    "    for i in range(1, m + 1):\n",
    "        for j in range(1, n + 1):\n",
    "            if x[i - 1] == y[j - 1]:  # Match\n",
    "                S[i, j] = S[i - 1, j - 1]\n",
    "                B[i, j] = (i - 1, j - 1)  # Diagonal\n",
    "            else:\n",
    "                options = [(S[i - 1, j - 1], (i - 1, j - 1)),  # Substitution\n",
    "                           (S[i, j - 1], (i, j - 1)),  # Insertion\n",
    "                           (S[i - 1, j], (i - 1, j))]  # Deletion\n",
    "                \n",
    "                S[i, j], B[i, j] = min(options, key=lambda t: t[0])\n",
    "                S[i, j] += 1\n",
    "    \n",
    "    # Traceback to find alignment\n",
    "    i, j = m, n\n",
    "    sx, sy = \"\", \"\"\n",
    "    \n",
    "    while (i, j) != (0, 0):\n",
    "        prev_i, prev_j = B[i, j]\n",
    "        if prev_i == i - 1 and prev_j == j - 1:\n",
    "            sx = x[i - 1] + sx\n",
    "            sy = y[j - 1] + sy\n",
    "        elif prev_i == i - 1:\n",
    "            sx = x[i - 1] + sx\n",
    "            sy = \"-\" + sy\n",
    "        else:\n",
    "            sx = \"-\" + sx\n",
    "            sy = y[j - 1] + sy\n",
    "        i, j = prev_i, prev_j\n",
    "    \n",
    "    return S[m, n], sx, sy\n",
    "\n",
    "# Example usage\n",
    "x = \"ATGTCATGA---TAC\".replace(\"-\", \"\")  # Removing gaps from input\n",
    "y = \"AT--CTAAATGTTAC\".replace(\"-\", \"\")\n",
    "distance, aligned_x, aligned_y = levenshtein(x, y)\n",
    "\n",
    "print(\"Levenshtein Distance:\", distance)\n",
    "print(\"Aligned X:\", aligned_x)\n",
    "print(\"Aligned Y:\", aligned_y)\n"
   ]
  },
  {
   "cell_type": "markdown",
   "metadata": {
    "id": "arFVwA6E5NWn"
   },
   "source": [
    "Q2. Vous pouvez tester votre code sur les exemples suivants:\n",
    "\n",
    "\n",
    "*   $L('CCAG', 'CA') = 2$\n",
    "*   $L('CCGT', 'CGTCA') = 3$\n",
    "*   $L(AY678264^*, OQ870305^*) = 310$\n",
    "\n",
    "$^*$ ids genbank de deux sequences."
   ]
  },
  {
   "cell_type": "code",
   "execution_count": 37,
   "metadata": {},
   "outputs": [
    {
     "name": "stdout",
     "output_type": "stream",
     "text": [
      "Levenshtein Distance: 2\n",
      "Aligned X: CCAG\n",
      "Aligned Y: -CA-\n"
     ]
    }
   ],
   "source": [
    "x = \"CCAG\"\n",
    "y = \"CA\"\n",
    "distance, aligned_x, aligned_y = levenshtein(x, y)\n",
    "print(\"Levenshtein Distance:\", distance)\n",
    "print(\"Aligned X:\", aligned_x)\n",
    "print(\"Aligned Y:\", aligned_y)"
   ]
  },
  {
   "cell_type": "code",
   "execution_count": 38,
   "metadata": {},
   "outputs": [
    {
     "name": "stdout",
     "output_type": "stream",
     "text": [
      "Levenshtein Distance: 3\n",
      "Aligned X: CCGT--\n",
      "Aligned Y: -CGTCA\n"
     ]
    }
   ],
   "source": [
    "x = \"CCGT\"\n",
    "y = \"CGTCA\"\n",
    "distance, aligned_x, aligned_y = levenshtein(x, y)\n",
    "print(\"Levenshtein Distance:\", distance)\n",
    "print(\"Aligned X:\", aligned_x)\n",
    "print(\"Aligned Y:\", aligned_y)"
   ]
  },
  {
   "cell_type": "code",
   "execution_count": 39,
   "metadata": {},
   "outputs": [
    {
     "name": "stdout",
     "output_type": "stream",
     "text": [
      "Levenshtein Distance: 7\n",
      "Aligned X: 𝐴𝑌678264∗\n",
      "Aligned Y: 𝑂𝑄870305∗\n"
     ]
    }
   ],
   "source": [
    "x = \"𝐴𝑌678264∗\"\n",
    "y = \"𝑂𝑄870305∗\"\n",
    "distance, aligned_x, aligned_y = levenshtein(x, y)\n",
    "print(\"Levenshtein Distance:\", distance)\n",
    "print(\"Aligned X:\", aligned_x)\n",
    "print(\"Aligned Y:\", aligned_y)"
   ]
  },
  {
   "cell_type": "markdown",
   "metadata": {
    "id": "erCpfG7O7BV-"
   },
   "source": [
    "# Exercice 2 : Algorithme de Smith-Waterman - version itérative"
   ]
  },
  {
   "cell_type": "markdown",
   "metadata": {
    "id": "rv2Y78y37IOd"
   },
   "source": [
    "Q1. Ecrivez la fonction\n",
    "\n",
    "sw_fwd(x: str, y: str, cmap: dict, sigma: array, (go, ge): list) -> (array, array)\n",
    "\n",
    "qui construit les matrices $S$ et $B$ en utilisant l'algorithme de Smith-Waterman pour aligner les séquences x et y suivant le schéma d'évaluation donné par la matrice de substitution $\\Sigma$ et la fonction d'évaluation des trous $\\gamma(n)= g_o + g_e \\times n$. Le dictionnaire cmap donne la position des différents nucléotides dans la matrice $\\Sigma$. La fonction retourne la paire de matrices de score $S$ et de retour $B$."
   ]
  },
  {
   "cell_type": "code",
   "execution_count": 40,
   "metadata": {
    "id": "njn3JB0b-WHj"
   },
   "outputs": [],
   "source": [
    "import numpy as np\n",
    "\n",
    "def sw_fwd(x: str, y: str, cmap: dict, sigma: np.ndarray, penalties: list):\n",
    "    \"\"\"\n",
    "    Implements the Smith-Waterman algorithm for local sequence alignment.\n",
    "\n",
    "    Parameters:\n",
    "    - x (str): First sequence\n",
    "    - y (str): Second sequence\n",
    "    - cmap (dict): Mapping of nucleotide to index in sigma\n",
    "    - sigma (np.ndarray): Substitution matrix\n",
    "    - penalties (list): [gap opening (go), gap extension (ge)]\n",
    "\n",
    "    Returns:\n",
    "    - S (np.ndarray): Score matrix\n",
    "    - B (np.ndarray): Backtracking matrix\n",
    "    \"\"\"\n",
    "    go, ge = penalties\n",
    "    len_x, len_y = len(x), len(y)\n",
    "    \n",
    "    # Initialize matrices\n",
    "    S = np.zeros((len_x + 1, len_y + 1))\n",
    "    B = np.zeros((len_x + 1, len_y + 1), dtype=int)\n",
    "    \n",
    "    # Fill matrices\n",
    "    for i in range(1, len_x + 1):\n",
    "        for j in range(1, len_y + 1):\n",
    "            match = S[i - 1, j - 1] + sigma[cmap[x[i - 1]], cmap[y[j - 1]]]\n",
    "            delete = S[i - 1, j] + (go if B[i - 1, j] != 2 else ge)  # Gap penalty\n",
    "            insert = S[i, j - 1] + (go if B[i, j - 1] != 3 else ge)\n",
    "            S[i, j] = max(0, match, delete, insert)\n",
    "\n",
    "            # Assign backtracking directions\n",
    "            if S[i, j] == 0:\n",
    "                B[i, j] = 0  # Stop (local alignment)\n",
    "            elif S[i, j] == match:\n",
    "                B[i, j] = 1  # Diagonal (match/mismatch)\n",
    "            elif S[i, j] == delete:\n",
    "                B[i, j] = 2  # Up (gap in y)\n",
    "            elif S[i, j] == insert:\n",
    "                B[i, j] = 3  # Left (gap in x)\n",
    "\n",
    "    return S, B"
   ]
  },
  {
   "cell_type": "code",
   "execution_count": 41,
   "metadata": {},
   "outputs": [
    {
     "name": "stdout",
     "output_type": "stream",
     "text": [
      "Score Matrix (S):\n",
      "[[0.  0.  0.  0.  0.  0. ]\n",
      " [0.  0.  1.  1.  1.  1.5]\n",
      " [0.  1.  1.  1.  1.  1.5]\n",
      " [0.  1.  1.5 1.5 1.5 2. ]\n",
      " [0.  1.5 2.  2.  2.  2. ]]\n",
      "\n",
      "Backtracking Matrix (B):\n",
      "[[0 0 0 0 0 0]\n",
      " [0 0 1 1 3 3]\n",
      " [0 1 2 2 2 2]\n",
      " [0 2 2 2 2 1]\n",
      " [0 2 2 2 2 2]]\n"
     ]
    }
   ],
   "source": [
    "# Define cmap and sigma for DNA sequences\n",
    "cmap = {\"A\": 0, \"T\": 1, \"G\": 2, \"C\": 3}\n",
    "m = np.array([[1, -0.5, -0.5, -0.5],\n",
    "              [-0.5, 1, -0.5, -0.5],\n",
    "              [-0.5, -0.5, 1, -0.5],\n",
    "              [-0.5, -0.5, -0.5, 1]])\n",
    "go = 0\n",
    "ge = 0.5\n",
    "\n",
    "# Example sequences\n",
    "# Sequences\n",
    "x = \"TCGC\"\n",
    "y = \"CTTAG\"\n",
    "\n",
    "# Run Smith-Waterman\n",
    "S, B = sw_fwd(x, y, cmap, sigma, (go, ge))  # Gap opening = -2, gap extension = -1\n",
    "\n",
    "print(\"Score Matrix (S):\")\n",
    "print(S)\n",
    "print(\"\\nBacktracking Matrix (B):\")\n",
    "print(B)\n"
   ]
  },
  {
   "cell_type": "markdown",
   "metadata": {
    "id": "55n8mt9U-Wai"
   },
   "source": [
    "Q2. Ecrivez la fonction\n",
    "\n",
    "sw_bwd(x: str, y: str, S: array, B: array) -> (str, str, float)\n",
    "\n",
    "qui effectue l'etape de retour de l'algorithme de Smith-Waterman etant donné les séquences $x$ et $y$ et les matrices de score $S$ et de retour $B$. La fonction retourne un tuple contenant les alignements des séquences x et y et le score de l'alignement."
   ]
  },
  {
   "cell_type": "code",
   "execution_count": 42,
   "metadata": {
    "id": "ij9JDpBm_UZ7"
   },
   "outputs": [],
   "source": [
    "import numpy as np\n",
    "\n",
    "def sw_bwd(x: str, y: str, S: np.ndarray, B: np.ndarray) -> (str, str, float):\n",
    "    \"\"\"\n",
    "    Performs the traceback step of the Smith-Waterman algorithm.\n",
    "\n",
    "    Parameters:\n",
    "    - x (str): First sequence\n",
    "    - y (str): Second sequence\n",
    "    - S (np.ndarray): Score matrix\n",
    "    - B (np.ndarray): Backtracking matrix\n",
    "\n",
    "    Returns:\n",
    "    - (str, str, float): Aligned sequences and the final alignment score\n",
    "    \"\"\"\n",
    "    # Find the maximum score in S (starting point for traceback)\n",
    "    i, j = np.unravel_index(np.argmax(S), S.shape)\n",
    "    max_score = S[i, j]\n",
    "\n",
    "    aligned_x = []\n",
    "    aligned_y = []\n",
    "\n",
    "    # Traceback\n",
    "    while B[i, j] != 0 and i > 0 and j > 0:\n",
    "        if B[i, j] == 1:  # Diagonal (match/mismatch)\n",
    "            aligned_x.append(x[i - 1])\n",
    "            aligned_y.append(y[j - 1])\n",
    "            i -= 1\n",
    "            j -= 1\n",
    "        elif B[i, j] == 2:  # Up (gap in y)\n",
    "            aligned_x.append(x[i - 1])\n",
    "            aligned_y.append('-')\n",
    "            i -= 1\n",
    "        elif B[i, j] == 3:  # Left (gap in x)\n",
    "            aligned_x.append('-')\n",
    "            aligned_y.append(y[j - 1])\n",
    "            j -= 1\n",
    "\n",
    "    # Reverse alignments (since we built them backwards)\n",
    "    aligned_x = ''.join(aligned_x[::-1])\n",
    "    aligned_y = ''.join(aligned_y[::-1])\n",
    "\n",
    "    return aligned_x, aligned_y, max_score\n"
   ]
  },
  {
   "cell_type": "markdown",
   "metadata": {
    "id": "kwmxg2dxAiwS"
   },
   "source": [
    "Q3. Vous pouvez tester votre code en utilisant le schéma d'évaluation suivant :"
   ]
  },
  {
   "cell_type": "code",
   "execution_count": 43,
   "metadata": {
    "id": "JUtYRFTBAwwZ"
   },
   "outputs": [],
   "source": [
    "cmap = {\"A\": 0, \"T\": 1, \"G\": 2, \"C\": 3}\n",
    "m = np.array([[1, -0.5, -0.5, -0.5],\n",
    "              [-0.5, 1, -0.5, -0.5],\n",
    "              [-0.5, -0.5, 1, -0.5],\n",
    "              [-0.5, -0.5, -0.5, 1]])\n",
    "go = 0\n",
    "ge = 0.5"
   ]
  },
  {
   "cell_type": "code",
   "execution_count": 44,
   "metadata": {},
   "outputs": [
    {
     "name": "stdout",
     "output_type": "stream",
     "text": [
      "Alignment Score: 2.0\n",
      "Aligned x: T-CG\n",
      "Aligned y: TA-G\n",
      "Max Score: 2.0 at Position: (3, 5)\n"
     ]
    }
   ],
   "source": [
    "# Sequences\n",
    "x = \"TCGC\"\n",
    "y = \"CTTAG\"\n",
    "\n",
    "# Step 1: Compute S and B matrices\n",
    "S, B = sw_fwd(x, y, cmap, sigma, (go, ge))\n",
    "\n",
    "# Step 2: Perform traceback to get alignment and score\n",
    "aligned_x, aligned_y, score = sw_bwd(x, y, S, B)\n",
    "\n",
    "# Step 3: Print results\n",
    "print(f\"Alignment Score: {score}\")\n",
    "print(f\"Aligned x: {aligned_x}\")\n",
    "print(f\"Aligned y: {aligned_y}\")\n",
    "\n",
    "# Step 4: Check best score position\n",
    "max_score = np.max(S)\n",
    "best_position = np.unravel_index(np.argmax(S), S.shape)\n",
    "print(f\"Max Score: {max_score} at Position: {best_position}\")"
   ]
  },
  {
   "cell_type": "markdown",
   "metadata": {
    "id": "eMGh4K5aIFxE"
   },
   "source": [
    "*   $SW('TCGC', 'CTTAG')$ retourne un score de $1.5$ à la position $(3,5)$ et l'alignement"
   ]
  },
  {
   "cell_type": "code",
   "execution_count": 45,
   "metadata": {
    "colab": {
     "base_uri": "https://localhost:8080/",
     "height": 60
    },
    "id": "joHNwJ9AIf6F",
    "outputId": "a9206810-a083-4d86-8b14-38183f1dd80c"
   },
   "outputs": [
    {
     "data": {
      "text/html": [
       "<table align='left' style='font-family:Courier New'><tr><th>x:</th><th>TCG</th></tr><tr><th>y:</th><th>TAG</th></tr></table>"
      ],
      "text/plain": [
       "<IPython.core.display.HTML object>"
      ]
     },
     "execution_count": 45,
     "metadata": {},
     "output_type": "execute_result"
    }
   ],
   "source": [
    "from IPython.core.display import HTML\n",
    "\n",
    "HTML(\"<table align='left' style='font-family:Courier New'><tr><th>x:</th><th>TCG</th></tr><tr><th>y:</th><th>TAG</th></tr></table>\")"
   ]
  },
  {
   "cell_type": "markdown",
   "metadata": {
    "id": "JJlU5yvZI43D"
   },
   "source": [
    "*   $SW(AY678264^*, OQ870305^*)$ retourne un score de $342.1$ à la position $(708,717)$ et l'alignement"
   ]
  },
  {
   "cell_type": "code",
   "execution_count": 46,
   "metadata": {},
   "outputs": [
    {
     "ename": "KeyError",
     "evalue": "'O'",
     "output_type": "error",
     "traceback": [
      "\u001b[1;31m---------------------------------------------------------------------------\u001b[0m",
      "\u001b[1;31mKeyError\u001b[0m                                  Traceback (most recent call last)",
      "\u001b[1;32m~\\AppData\\Local\\Temp\\ipykernel_7144\\39445628.py\u001b[0m in \u001b[0;36m<module>\u001b[1;34m\u001b[0m\n\u001b[0;32m      4\u001b[0m \u001b[1;33m\u001b[0m\u001b[0m\n\u001b[0;32m      5\u001b[0m \u001b[1;31m# Step 1: Compute S and B matrices\u001b[0m\u001b[1;33m\u001b[0m\u001b[1;33m\u001b[0m\u001b[0m\n\u001b[1;32m----> 6\u001b[1;33m \u001b[0mS\u001b[0m\u001b[1;33m,\u001b[0m \u001b[0mB\u001b[0m \u001b[1;33m=\u001b[0m \u001b[0msw_fwd\u001b[0m\u001b[1;33m(\u001b[0m\u001b[0mx\u001b[0m\u001b[1;33m,\u001b[0m \u001b[0my\u001b[0m\u001b[1;33m,\u001b[0m \u001b[0mcmap\u001b[0m\u001b[1;33m,\u001b[0m \u001b[0msigma\u001b[0m\u001b[1;33m,\u001b[0m \u001b[1;33m(\u001b[0m\u001b[0mgo\u001b[0m\u001b[1;33m,\u001b[0m \u001b[0mge\u001b[0m\u001b[1;33m)\u001b[0m\u001b[1;33m)\u001b[0m\u001b[1;33m\u001b[0m\u001b[1;33m\u001b[0m\u001b[0m\n\u001b[0m\u001b[0;32m      7\u001b[0m \u001b[1;33m\u001b[0m\u001b[0m\n\u001b[0;32m      8\u001b[0m \u001b[1;31m# Step 2: Perform traceback to get alignment and score\u001b[0m\u001b[1;33m\u001b[0m\u001b[1;33m\u001b[0m\u001b[0m\n",
      "\u001b[1;32m~\\AppData\\Local\\Temp\\ipykernel_7144\\321429888.py\u001b[0m in \u001b[0;36msw_fwd\u001b[1;34m(x, y, cmap, sigma, penalties)\u001b[0m\n\u001b[0;32m     26\u001b[0m     \u001b[1;32mfor\u001b[0m \u001b[0mi\u001b[0m \u001b[1;32min\u001b[0m \u001b[0mrange\u001b[0m\u001b[1;33m(\u001b[0m\u001b[1;36m1\u001b[0m\u001b[1;33m,\u001b[0m \u001b[0mlen_x\u001b[0m \u001b[1;33m+\u001b[0m \u001b[1;36m1\u001b[0m\u001b[1;33m)\u001b[0m\u001b[1;33m:\u001b[0m\u001b[1;33m\u001b[0m\u001b[1;33m\u001b[0m\u001b[0m\n\u001b[0;32m     27\u001b[0m         \u001b[1;32mfor\u001b[0m \u001b[0mj\u001b[0m \u001b[1;32min\u001b[0m \u001b[0mrange\u001b[0m\u001b[1;33m(\u001b[0m\u001b[1;36m1\u001b[0m\u001b[1;33m,\u001b[0m \u001b[0mlen_y\u001b[0m \u001b[1;33m+\u001b[0m \u001b[1;36m1\u001b[0m\u001b[1;33m)\u001b[0m\u001b[1;33m:\u001b[0m\u001b[1;33m\u001b[0m\u001b[1;33m\u001b[0m\u001b[0m\n\u001b[1;32m---> 28\u001b[1;33m             \u001b[0mmatch\u001b[0m \u001b[1;33m=\u001b[0m \u001b[0mS\u001b[0m\u001b[1;33m[\u001b[0m\u001b[0mi\u001b[0m \u001b[1;33m-\u001b[0m \u001b[1;36m1\u001b[0m\u001b[1;33m,\u001b[0m \u001b[0mj\u001b[0m \u001b[1;33m-\u001b[0m \u001b[1;36m1\u001b[0m\u001b[1;33m]\u001b[0m \u001b[1;33m+\u001b[0m \u001b[0msigma\u001b[0m\u001b[1;33m[\u001b[0m\u001b[0mcmap\u001b[0m\u001b[1;33m[\u001b[0m\u001b[0mx\u001b[0m\u001b[1;33m[\u001b[0m\u001b[0mi\u001b[0m \u001b[1;33m-\u001b[0m \u001b[1;36m1\u001b[0m\u001b[1;33m]\u001b[0m\u001b[1;33m]\u001b[0m\u001b[1;33m,\u001b[0m \u001b[0mcmap\u001b[0m\u001b[1;33m[\u001b[0m\u001b[0my\u001b[0m\u001b[1;33m[\u001b[0m\u001b[0mj\u001b[0m \u001b[1;33m-\u001b[0m \u001b[1;36m1\u001b[0m\u001b[1;33m]\u001b[0m\u001b[1;33m]\u001b[0m\u001b[1;33m]\u001b[0m\u001b[1;33m\u001b[0m\u001b[1;33m\u001b[0m\u001b[0m\n\u001b[0m\u001b[0;32m     29\u001b[0m             \u001b[0mdelete\u001b[0m \u001b[1;33m=\u001b[0m \u001b[0mS\u001b[0m\u001b[1;33m[\u001b[0m\u001b[0mi\u001b[0m \u001b[1;33m-\u001b[0m \u001b[1;36m1\u001b[0m\u001b[1;33m,\u001b[0m \u001b[0mj\u001b[0m\u001b[1;33m]\u001b[0m \u001b[1;33m+\u001b[0m \u001b[1;33m(\u001b[0m\u001b[0mgo\u001b[0m \u001b[1;32mif\u001b[0m \u001b[0mB\u001b[0m\u001b[1;33m[\u001b[0m\u001b[0mi\u001b[0m \u001b[1;33m-\u001b[0m \u001b[1;36m1\u001b[0m\u001b[1;33m,\u001b[0m \u001b[0mj\u001b[0m\u001b[1;33m]\u001b[0m \u001b[1;33m!=\u001b[0m \u001b[1;36m2\u001b[0m \u001b[1;32melse\u001b[0m \u001b[0mge\u001b[0m\u001b[1;33m)\u001b[0m  \u001b[1;31m# Gap penalty\u001b[0m\u001b[1;33m\u001b[0m\u001b[1;33m\u001b[0m\u001b[0m\n\u001b[0;32m     30\u001b[0m             \u001b[0minsert\u001b[0m \u001b[1;33m=\u001b[0m \u001b[0mS\u001b[0m\u001b[1;33m[\u001b[0m\u001b[0mi\u001b[0m\u001b[1;33m,\u001b[0m \u001b[0mj\u001b[0m \u001b[1;33m-\u001b[0m \u001b[1;36m1\u001b[0m\u001b[1;33m]\u001b[0m \u001b[1;33m+\u001b[0m \u001b[1;33m(\u001b[0m\u001b[0mgo\u001b[0m \u001b[1;32mif\u001b[0m \u001b[0mB\u001b[0m\u001b[1;33m[\u001b[0m\u001b[0mi\u001b[0m\u001b[1;33m,\u001b[0m \u001b[0mj\u001b[0m \u001b[1;33m-\u001b[0m \u001b[1;36m1\u001b[0m\u001b[1;33m]\u001b[0m \u001b[1;33m!=\u001b[0m \u001b[1;36m3\u001b[0m \u001b[1;32melse\u001b[0m \u001b[0mge\u001b[0m\u001b[1;33m)\u001b[0m\u001b[1;33m\u001b[0m\u001b[1;33m\u001b[0m\u001b[0m\n",
      "\u001b[1;31mKeyError\u001b[0m: 'O'"
     ]
    }
   ],
   "source": [
    "# Sequences\n",
    "x = \"AY678264*\"\n",
    "y = \"OQ870305*\"\n",
    "\n",
    "# Step 1: Compute S and B matrices\n",
    "S, B = sw_fwd(x, y, cmap, sigma, (go, ge))\n",
    "\n",
    "# Step 2: Perform traceback to get alignment and score\n",
    "aligned_x, aligned_y, score = sw_bwd(x, y, S, B)\n",
    "\n",
    "# Step 3: Print results\n",
    "print(f\"Alignment Score: {score}\")\n",
    "print(f\"Aligned x: {aligned_x}\")\n",
    "print(f\"Aligned y: {aligned_y}\")\n",
    "\n",
    "# Step 4: Check best score position\n",
    "max_score = np.max(S)\n",
    "best_position = np.unravel_index(np.argmax(S), S.shape)\n",
    "print(f\"Max Score: {max_score} at Position: {best_position}\")"
   ]
  },
  {
   "cell_type": "code",
   "execution_count": 47,
   "metadata": {
    "colab": {
     "base_uri": "https://localhost:8080/",
     "height": 80
    },
    "id": "HUELvWKMFtIO",
    "outputId": "976bab6f-f1fc-4c5a-c69c-8de02fc838d0"
   },
   "outputs": [
    {
     "data": {
      "text/html": [
       "<table width='300px' align='left' style='font-family:Courier New'><tr><th>x:</th><th nowrap='nowrap'>ATGGTGAGCAAGGGCGAGGAGGATAACATGGCCATCATCAAGGAGTTCATGCGCTTCAAGGTGC-A-CATGGAGGGCTCCGTGAACGGCCACGAGTTCGAGATCGAG---GGCGAGGGCGAGGGC--CGCC-CCTACGAGGGCACCCAGACCGC-CAAGCTGAAGGTG-ACCA-AGG---G-TGGCC---CCCT-GCCCTTCGCCT-GGGA-CATCCTGTCC--C--C-T-CAGTTCATGT-A-CGGCT-CCAAGGCCTACGTG-A--AGCAC--C--C--C--G-CCGACATCCCCG-A--CTAC-T--TGAAGCTG-TCCTTC--C--C-----CGA-GG--GCTTCAAGTGGGAGCG-CGTGATGAACTTCGAGGACGGCGGCGTGGTG-ACCG--T-GA-C-CCAGGAC-TC--CTCCCTGCAGGACGGCGAGTTCATCTACAAGGTG---AAGCTGCGCGGCACCAACTTCCCCT-CCGACGGCCCCGTA-ATGCA-GAAGAAGACCATGGGCTG--GGA-GGCCTCCTCCGAGCGGATGTACCCCGAGGA-CGGCGCC-CTGAAGGGCGAGATCAAGCAGA-GGCTGAAGC-TGAAGGACGGCGGCCACTACGACGCTGAGGTCAAGACCACCTACA-AGGCCAAGAAG-CCCGTGCAGCTGCCCGGC-GCCTACAACGTCAACATCAAGT-TG----GA-CATCACCTCCCACAACGAGGA-CTAC-A-C-CA---T-C-G-TGGAACAGTACG-AACGCGCCGAGGGCCGCCACTCCAC-CGGCGGCATGGACGAGCTGTACAAG</th></tr><tr><th>y:</th><th>ATGGTGAGCAAGGGCGAGGA-G----C-T-G--TTCA-C-CGG-GGTGGTGCCCATCCTGGT-CGAGC-TGGACGGCGACGTAAACGGCCACAAGTTC-AG--CGTGTCCGGCGAGGGCGAGGGCGATGCCACCTAC---GGCAAGCTGACC-CTGAAG-TTCATTTGCACCACCGGCAAGCTGCCCGTGCCCTGGCCC-AC-CCTCGTGACCACCCTGACCTACGGCGTGCAGTGC-T-TCAGCCGCTACCCCGACC-ACATGAAGCAGCACGACTTCTTCAAGTCCGCCATGCCCGAAGGCTACGTCCAGGAGC-GCACCATCTTCTTCAAGGACGACGGCAACTACAAGA-CCCGCGCCGAGGTGAAGTTCGAGGGCGACACCCTGGTGAACCGCATCGAGCTGAAGGGCATCGACTTCAAGGAGGACGGC-A--ACATC--C-TGGGGCACAAGCTG-G-AGTA-CAACTACAACAGCC-ACAACGTC-TATAT-CATG--GCCGA-CAA--GCAGAAGAACGG-CA--T-C-A-AGG-TGAACTTC-AAGATC--CGCCAC--AA---C---ATCGAG--GACGGC---AGCGTGCAGCTCGCCGACCACTACCA-GC--A-G--AACACC-CC--CATCGGCGACG--GCCCCGTGCTGCTGCCCGACAACC-ACTACCTGAGCACCCAGTCCGCCCTGAGCAA-A-GACCC-CAACGAGAAGC-GCGATCACATGGTCCTGCTGG---AGTTCGTGAC-CGCC----GCCGGGA-T-CACTC-TCGGCATGGACGAGCTGTACAAG</th></tr></table>"
      ],
      "text/plain": [
       "<IPython.core.display.HTML object>"
      ]
     },
     "execution_count": 47,
     "metadata": {},
     "output_type": "execute_result"
    }
   ],
   "source": [
    "from IPython.display import HTML\n",
    "HTML(\"<table width='300px' align='left' style='font-family:Courier New'><tr><th>x:</th><th nowrap='nowrap'>ATGGTGAGCAAGGGCGAGGAGGATAACATGGCCATCATCAAGGAGTTCATGCGCTTCAAGGTGC-A-CATGGAGGGCTCCGTGAACGGCCACGAGTTCGAGATCGAG---GGCGAGGGCGAGGGC--CGCC-CCTACGAGGGCACCCAGACCGC-CAAGCTGAAGGTG-ACCA-AGG---G-TGGCC---CCCT-GCCCTTCGCCT-GGGA-CATCCTGTCC--C--C-T-CAGTTCATGT-A-CGGCT-CCAAGGCCTACGTG-A--AGCAC--C--C--C--G-CCGACATCCCCG-A--CTAC-T--TGAAGCTG-TCCTTC--C--C-----CGA-GG--GCTTCAAGTGGGAGCG-CGTGATGAACTTCGAGGACGGCGGCGTGGTG-ACCG--T-GA-C-CCAGGAC-TC--CTCCCTGCAGGACGGCGAGTTCATCTACAAGGTG---AAGCTGCGCGGCACCAACTTCCCCT-CCGACGGCCCCGTA-ATGCA-GAAGAAGACCATGGGCTG--GGA-GGCCTCCTCCGAGCGGATGTACCCCGAGGA-CGGCGCC-CTGAAGGGCGAGATCAAGCAGA-GGCTGAAGC-TGAAGGACGGCGGCCACTACGACGCTGAGGTCAAGACCACCTACA-AGGCCAAGAAG-CCCGTGCAGCTGCCCGGC-GCCTACAACGTCAACATCAAGT-TG----GA-CATCACCTCCCACAACGAGGA-CTAC-A-C-CA---T-C-G-TGGAACAGTACG-AACGCGCCGAGGGCCGCCACTCCAC-CGGCGGCATGGACGAGCTGTACAAG</th></tr><tr><th>y:</th><th>ATGGTGAGCAAGGGCGAGGA-G----C-T-G--TTCA-C-CGG-GGTGGTGCCCATCCTGGT-CGAGC-TGGACGGCGACGTAAACGGCCACAAGTTC-AG--CGTGTCCGGCGAGGGCGAGGGCGATGCCACCTAC---GGCAAGCTGACC-CTGAAG-TTCATTTGCACCACCGGCAAGCTGCCCGTGCCCTGGCCC-AC-CCTCGTGACCACCCTGACCTACGGCGTGCAGTGC-T-TCAGCCGCTACCCCGACC-ACATGAAGCAGCACGACTTCTTCAAGTCCGCCATGCCCGAAGGCTACGTCCAGGAGC-GCACCATCTTCTTCAAGGACGACGGCAACTACAAGA-CCCGCGCCGAGGTGAAGTTCGAGGGCGACACCCTGGTGAACCGCATCGAGCTGAAGGGCATCGACTTCAAGGAGGACGGC-A--ACATC--C-TGGGGCACAAGCTG-G-AGTA-CAACTACAACAGCC-ACAACGTC-TATAT-CATG--GCCGA-CAA--GCAGAAGAACGG-CA--T-C-A-AGG-TGAACTTC-AAGATC--CGCCAC--AA---C---ATCGAG--GACGGC---AGCGTGCAGCTCGCCGACCACTACCA-GC--A-G--AACACC-CC--CATCGGCGACG--GCCCCGTGCTGCTGCCCGACAACC-ACTACCTGAGCACCCAGTCCGCCCTGAGCAA-A-GACCC-CAACGAGAAGC-GCGATCACATGGTCCTGCTGG---AGTTCGTGAC-CGCC----GCCGGGA-T-CACTC-TCGGCATGGACGAGCTGTACAAG</th></tr></table>\")"
   ]
  },
  {
   "cell_type": "markdown",
   "metadata": {
    "id": "Q5jVeLfgMMtA"
   },
   "source": [
    "# Exercice 3 : Distribution des scores d’alignement pour des séquences aléatoires\n",
    "\n",
    "Pour tester si un alignement reflète une réelle similarité biologique, on va évaluer la distribution des scores d’alignement pour des paires de séquences aléatoires."
   ]
  },
  {
   "cell_type": "markdown",
   "metadata": {
    "id": "6xyXw0HsMQGf"
   },
   "source": [
    "Q1. En considérant deux séquences aléatoires de même taille N, où chaque nucléotide apparaît avec une probabilité uniforme de ¼, calculer le score moyen attendu pour une superposition sans trou dans le cas où une identité vaut +1 et une différence vaut 0."
   ]
  },
  {
   "cell_type": "markdown",
   "metadata": {
    "id": "meF18gt-Mhcn"
   },
   "source": [
    "```markdown\n",
    "P(AA) + P(TT) + P(GG) + P(CC) = (1/4 * 1/4) * 4 = 1/4 \n",
    "```"
   ]
  },
  {
   "cell_type": "markdown",
   "metadata": {
    "id": "fP5_mHnYMkNI"
   },
   "source": [
    "Q2. La question précédente peut se resoudre analytiquement car on ne considère pas de trou. Pour étendre le résultat precedent à un alignement avec trous, on va se baser sur la simulation de séquences aleatoires.\n",
    "\n",
    "Générez $R$ paires de séquences aléatoires  de tailles $N$ avec des probabilitées uniformes d'apparition de nucléotides $p_A = p_T = p_G = p_C = $ ¼. Affichez sous forme de violinplots les distribution des scores d'alignements entre chaque paire, obtenu par :\n",
    "  1. un alignement sans trou (cf. Q1) ;\n",
    "  2. un alignement local via Smith-Waterman (utilisez le code de l'exercice précédent)\n",
    "\n",
    "Utilisez le schéma d'évaluation suivant :"
   ]
  },
  {
   "cell_type": "code",
   "execution_count": 48,
   "metadata": {
    "id": "akUVqotnOLkH"
   },
   "outputs": [],
   "source": [
    "rmap = {\"A\": 0, \"T\": 1, \"G\": 2, \"C\": 3}\n",
    "sigma = np.array([[1, -0.5, -0.5, -0.5],\n",
    "                  [-0.5, 1, -0.5, -0.5],\n",
    "                  [-0.5, -0.5, 1, -0.5],\n",
    "                  [-0.5, -0.5, -0.5, 1]])\n",
    "go =0\n",
    "ge = 0.5"
   ]
  },
  {
   "cell_type": "code",
   "execution_count": 49,
   "metadata": {
    "id": "UX0afNaqOVZ2"
   },
   "outputs": [
    {
     "data": {
      "image/png": "[encoded data removed]",
      "text/plain": [
       "<Figure size 1000x600 with 1 Axes>"
      ]
     },
     "metadata": {},
     "output_type": "display_data"
    }
   ],
   "source": [
    "import numpy as np\n",
    "import matplotlib.pyplot as plt\n",
    "import seaborn as sns\n",
    "import random\n",
    "\n",
    "def generate_random_sequence(N):\n",
    "    \"\"\"Génère une séquence aléatoire de longueur N avec des nucléotides équiprobables.\"\"\"\n",
    "    return \"\".join(random.choices(\"ATGC\", k=N))\n",
    "\n",
    "def alignment_score_no_gap(x, y, sigma, cmap):\n",
    "    \"\"\"Calcule le score d'alignement sans trou entre deux séquences x et y.\"\"\"\n",
    "    return sum(sigma[cmap[x[i]], cmap[y[i]]] for i in range(len(x)))\n",
    "\n",
    "def sw_fwd(x, y, cmap, sigma, gap_params):\n",
    "    \"\"\"Construit les matrices de score et de backtracking pour Smith-Waterman.\"\"\"\n",
    "    go, ge = gap_params\n",
    "    S = np.zeros((len(x) + 1, len(y) + 1))\n",
    "    B = np.zeros((len(x) + 1, len(y) + 1), dtype=int)\n",
    "    max_score = 0\n",
    "    max_pos = (0, 0)\n",
    "    \n",
    "    for i in range(1, len(x) + 1):\n",
    "        for j in range(1, len(y) + 1):\n",
    "            match = S[i-1, j-1] + sigma[cmap[x[i-1]], cmap[y[j-1]]]\n",
    "            delete = S[i-1, j] - (go if B[i-1, j] == 1 else ge)\n",
    "            insert = S[i, j-1] - (go if B[i, j-1] == 2 else ge)\n",
    "            S[i, j], B[i, j] = max((0, 0), (match, 3), (delete, 1), (insert, 2))\n",
    "            if S[i, j] > max_score:\n",
    "                max_score = S[i, j]\n",
    "                max_pos = (i, j)\n",
    "    \n",
    "    return S, B, max_score, max_pos\n",
    "\n",
    "def simulate_alignments(R, N, sigma, cmap, gap_params):\n",
    "    \"\"\"Simule R paires de séquences et calcule les scores d'alignement.\"\"\"\n",
    "    scores_no_gap = []\n",
    "    scores_sw = []\n",
    "    \n",
    "    for _ in range(R):\n",
    "        x = generate_random_sequence(N)\n",
    "        y = generate_random_sequence(N)\n",
    "        \n",
    "        score_no_gap = alignment_score_no_gap(x, y, sigma, cmap)\n",
    "        scores_no_gap.append(score_no_gap)\n",
    "        \n",
    "        S, B, max_score, _ = sw_fwd(x, y, cmap, sigma, gap_params)\n",
    "        scores_sw.append(max_score)\n",
    "    \n",
    "    return scores_no_gap, scores_sw\n",
    "\n",
    "def plot_violin(scores_no_gap, scores_sw):\n",
    "    \"\"\"Affiche les distributions des scores sous forme de violin plots.\"\"\"\n",
    "    data = [scores_no_gap, scores_sw]\n",
    "    labels = [\"Sans trou\", \"Smith-Waterman\"]\n",
    "    \n",
    "    plt.figure(figsize=(10, 6))\n",
    "    sns.violinplot(data=data)\n",
    "    plt.xticks(ticks=[0, 1], labels=labels)\n",
    "    plt.ylabel(\"Score d'alignement\")\n",
    "    plt.title(\"Distribution des scores d'alignement\")\n",
    "    plt.show()\n",
    "\n",
    "# Paramètres\n",
    "total_sequences = 100  # Nombre de paires (R)\n",
    "sequence_length = 50  # Taille des séquences (N)\n",
    "rmap = {\"A\": 0, \"T\": 1, \"G\": 2, \"C\": 3}\n",
    "sigma = np.array([[1, -0.5, -0.5, -0.5],\n",
    "                  [-0.5, 1, -0.5, -0.5],\n",
    "                  [-0.5, -0.5, 1, -0.5],\n",
    "                  [-0.5, -0.5, -0.5, 1]])\n",
    "gap_params = (0, 0.5)\n",
    "\n",
    "# Exécution de la simulation et affichage des résultats\n",
    "scores_no_gap, scores_sw = simulate_alignments(total_sequences, sequence_length, sigma, rmap, gap_params)\n",
    "plot_violin(scores_no_gap, scores_sw)\n"
   ]
  },
  {
   "cell_type": "markdown",
   "metadata": {
    "id": "UNn9fUuXO4Le"
   },
   "source": [
    "Q3. Qu'observez-vous ?"
   ]
  },
  {
   "cell_type": "markdown",
   "metadata": {
    "id": "dSQEl0XXO8IG"
   },
   "source": [
    "```markdown\n",
    "Smith Waterman really help finding a positive score. The difference of score is really big between the no hole sequences and the Smith Waterman ones.\n",
    "```"
   ]
  },
  {
   "cell_type": "markdown",
   "metadata": {
    "id": "xHfVXpQhf15n"
   },
   "source": [
    "Q4. Quelle conclusion peut-on en tirer sur la significativité d'un alignement ?"
   ]
  },
  {
   "cell_type": "markdown",
   "metadata": {
    "id": "5KjhEeHDgDns"
   },
   "source": [
    "```markdown\n",
    "With random sequences, it really helps finding similarities between them. So between close related sequences, it would help as well (especially if they are unalined). That can help as well finding similarities between different species and see if they have a common ancestors or if they have a ancestor-heir relationship. The score can help for the overall sequence, but we can as well take parts of sequence between two species and check their score. That can help find characteristic of two species that is shared among them and see if a part of the sequence is responsable for it. \n",
    "```"
   ]
  }
 ],
 "metadata": {
  "colab": {
   "authorship_tag": "ABX9TyNSXnqaXAUgZK9rmJ1TWbGo",
   "provenance": []
  },
  "kernelspec": {
   "display_name": "Python 3 (ipykernel)",
   "language": "python",
   "name": "python3"
  },
  "language_info": {
   "codemirror_mode": {
    "name": "ipython",
    "version": 3
   },
   "file_extension": ".py",
   "mimetype": "text/x-python",
   "name": "python",
   "nbconvert_exporter": "python",
   "pygments_lexer": "ipython3",
   "version": "3.9.13"
  }
 },
 "nbformat": 4,
 "nbformat_minor": 1
}
