{
  "nbformat": 4,
  "nbformat_minor": 0,
  "metadata": {
    "colab": {
      "provenance": []
    },
    "kernelspec": {
      "name": "python3",
      "display_name": "Python 3"
    },
    "language_info": {
      "name": "python"
    }
  },
  "cells": [
    {
      "cell_type": "markdown",
      "source": [
        "# BINF TP3 - Algorithmes d'alignement par paire"
      ],
      "metadata": {
        "id": "V09wQ1WIOmgn"
      }
    },
    {
      "cell_type": "markdown",
      "source": [
        "Dans ce TP nous allons manipuler les algorithmes d'alignement par paire."
      ],
      "metadata": {
        "id": "er6CtAyOxC6F"
      }
    },
    {
      "cell_type": "markdown",
      "source": [
        "# Exercice 0 - Echauffement"
      ],
      "metadata": {
        "id": "BqEa3BJ1xICM"
      }
    },
    {
      "cell_type": "markdown",
      "source": [
        "Q1. Donnez le score de la superposition :\n",
        "\n",
        "|       |       |\n",
        "| :---: | :---: |\n",
        "x       | ATGTCATGA---TAC |\n",
        "y       | AT--CTAAATGTTAC |\n",
        "\n",
        "\n",
        "étant donne le schéma d'évaluation :\n",
        "\n",
        "|       | A     | T     | G     | C     |\n",
        "| :---: | :---: | :---: | :---: | :---: |\n",
        "| **A** | 1     | -1    | -1    | -1    |\n",
        "| **T** | -1    | 1     | -1    | -1    |\n",
        "| **G** | -1    | -1    | 1     | -1    |\n",
        "| **C** | -1    | -1    | -1    | 1     |\n",
        "\n",
        "et\n",
        "\n",
        "$\\gamma(g) = 0.5 |g| + 0.5$"
      ],
      "metadata": {
        "id": "qqiiq5bcxYvM"
      }
    },
    {
      "cell_type": "markdown",
      "source": [
        "```markdown\n",
        "0.5\n",
        "```"
      ],
      "metadata": {
        "id": "kCJGGGYQ2GNi"
      }
    },
    {
      "cell_type": "markdown",
      "source": [
        "Q2. Alignez les séquences suivantes avec l'algorithme de Levenshtein :  x = ATG et y = ACTG."
      ],
      "metadata": {
        "id": "XyhXAhK-2NKJ"
      }
    },
    {
      "cell_type": "markdown",
      "source": [
        "```markdown\n",
        "x = A-TG et y = ACTG\n",
        "```"
      ],
      "metadata": {
        "id": "b9iovhyZ2bXw"
      }
    },
    {
      "cell_type": "markdown",
      "source": [
        "Q3.\tAlignez les séquences suivantes avec l'algorithme de Needleman-Wunsch global x = TAT et y = ATGAC en considérant le schéma d'évaluation suivant\n",
        "\n",
        "|       | A       | T       | G       | C     |\n",
        "| :---: | :---:   | :---:   | :---:   | :---: |\n",
        "| **A** | 1       | -0.5    | -0.5    | -0.5  |\n",
        "| **T** | -0.5    | 1       | -0.5    | -0.5  |\n",
        "| **G** | -0.5    | -0.5    | 1       | -0.5  |\n",
        "| **C** | -0.5    | -0.5    | -0.5    | 1     |\n",
        "\n",
        "et\n",
        "\n",
        "$\\gamma(g) = 0.5 |g|$\n"
      ],
      "metadata": {
        "id": "OV_YaQHr2elB"
      }
    },
    {
      "cell_type": "markdown",
      "source": [
        "```markdown\n",
        "x = -T-AT et y = ATGAC\n",
        "```"
      ],
      "metadata": {
        "id": "g_MrecVs3Nrw"
      }
    },
    {
      "cell_type": "markdown",
      "source": [
        "Q4. Alignez les séquences suivantes avec l'algorithme de Smith-Waterman x = TTGG y = ATGAC en utilisant le schéma d'évaluation de la question précédente.\n"
      ],
      "metadata": {
        "id": "y1YF-G6E3Qoo"
      }
    },
    {
      "cell_type": "markdown",
      "source": [
        "```markdown\n",
        "x = TTGG et y = T-GG\n",
        "```"
      ],
      "metadata": {
        "id": "LLMECocb3pgI"
      }
    },
    {
      "cell_type": "markdown",
      "source": [
        "# Exercice 1 : Algorithme de Levenshtein - version récursive"
      ],
      "metadata": {
        "id": "46gw0avh3wGw"
      }
    },
    {
      "cell_type": "markdown",
      "source": [
        "Q1. Ecrivez une fonction\n",
        "\n",
        "levenshtein(x: str, y: str) -> int\n",
        "\n",
        "qui retourne la distance de Levenshtein entre les séquences x et y en utilisant la  version récursive de l'algorithme."
      ],
      "metadata": {
        "id": "ZKc09Kyg4a6v"
      }
    },
    {
      "cell_type": "code",
      "source": [
        "def levenshtein(x, y):\n",
        "    if not x:\n",
        "        return len(y)\n",
        "    if not y:\n",
        "        return len(x)\n",
        "    if x[0] == y[0]:\n",
        "        return levenshtein(x[1:], y[1:])\n",
        "    else:\n",
        "        return 1 + min(levenshtein(x[1:], y),\n",
        "                       levenshtein(x, y[1:]),\n",
        "                       levenshtein(x[1:], y[1:]))\n"
      ],
      "metadata": {
        "id": "FJR69IEQ4aHv"
      },
      "execution_count": 3,
      "outputs": []
    },
    {
      "cell_type": "markdown",
      "source": [
        "Q2. Vous pouvez tester votre code sur les exemples suivants:\n",
        "\n",
        "\n",
        "*   $L('CCAG', 'CA') = 2$\n",
        "*   $L('CCGT', 'CGTCA') = 3$\n",
        "*   $L(AY678264^*, OQ870305^*) = 310$\n",
        "\n",
        "$^*$ ids genbank de deux sequences."
      ],
      "metadata": {
        "id": "arFVwA6E5NWn"
      }
    },
    {
      "cell_type": "code",
      "source": [
        "print(levenshtein('CCAG', 'CA'))\n",
        "print(levenshtein('CCGT', 'CGTCA'))\n",
        "# print(levenshtein('ATGGTGAGCAAGGGCGAGGAGGATAACATGGCCATCATCAAGGAGTTCATGCGCTTCAAGGTGCACATGGAGGGCTCCGTGAACGGCCACGAGTTCGAGATCGAGGGCGAGGGCGAGGGCCGCCCCTACGAGGGCACCCAGACCGCCAAGCTGAAGGTGACCAAGGGTGGCCCCCTGCCCTTCGCCTGGGACATCCTGTCCCCTCAGTTCATGTACGGCTCCAAGGCCTACGTGAAGCACCCCGCCGACATCCCCGACTACTTGAAGCTGTCCTTCCCCGAGGGCTTCAAGTGGGAGCGCGTGATGAACTTCGAGGACGGCGGCGTGGTGACCGTGACCCAGGACTCCTCCCTGCAGGACGGCGAGTTCATCTACAAGGTGAAGCTGCGCGGCACCAACTTCCCCTCCGACGGCCCCGTAATGCAGAAGAAGACCATGGGCTGGGAGGCCTCCTCCGAGCGGATGTACCCCGAGGACGGCGCCCTGAAGGGCGAGATCAAGCAGAGGCTGAAGCTGAAGGACGGCGGCCACTACGACGCTGAGGTCAAGACCACCTACAAGGCCAAGAAGCCCGTGCAGCTGCCCGGCGCCTACAACGTCAACATCAAGTTGGACATCACCTCCCACAACGAGGACTACACCATCGTGGAACAGTACGAACGCGCCGAGGGCCGCCACTCCACCGGCGGCATGGACGAGCTGTACAAGTAA',\n",
        "#                   'ATGGTCTCCTTCAAATCTCTCCTAGTTCTCTGTTGCGCTGCCCTTGGGGCATTCGCTACGAAGAGAATGAGTAAAGGAGAAGAACTTTTCACTGGAGTTGTCCCAATTCTTGTTGAATTAGATGGTGATGTTAATGGGCACAAATTTTCTGTCAGTGGAGAGGGTGAAGGTGATGCAACATACGGAAAACTTACCCTTAAATTTATTTGCACTACTGGAAAACTACCTGTTCCATGGCCAACACTTGTCACTACTTTCACCTATGGTGTTCAATGCTTTTCAAGATACCCAGATCATATGAAGCGGCACGACTTCTTCAAGAGCGCCATGCCTGAGGGATACGTGCAGGAGAGGACCATCTTCTTCAAAGACGACGGGAACTACAAGACACGTGCTGAAGTCAAGTTTGAGGGAGACACCCTCGTCAACAGGATCGAGCTTAAGGGAATCGATTTCAAGGAGGACGGAAACATCCTCGGCCACAAGTTGGAATACAACTACAACTCCCACAACGTATACATCATGGCCGACAAGCAAAAGAACGGCATCAAAGCCAACTTCAAGACCCGCCACAACATCGAAGACGGCGGCGTGCAACTCGCTGATCATTATCAACAAAATACTCCAATTGGCGATGGCCCTGTCCTTTTACCAGACAACCATTACCTGTCCACACAATCTGCCCTTTCGAAAGATCCCAACGAAAAGAGAGACCACATGGTCCTTCTTGAGTTTGTAACAGCTGCTGGGATTACACATGGCATGGATGAACTATACAAATAA')"
      ],
      "metadata": {
        "colab": {
          "base_uri": "https://localhost:8080/"
        },
        "id": "zidDGDhR0I0t",
        "outputId": "a8c8eed1-0c14-4e3f-f168-11e429e22e61"
      },
      "execution_count": 6,
      "outputs": [
        {
          "output_type": "stream",
          "name": "stdout",
          "text": [
            "2\n",
            "3\n"
          ]
        }
      ]
    },
    {
      "cell_type": "markdown",
      "source": [
        "# Exercice 2 : Algorithme de Smith-Waterman - version itérative"
      ],
      "metadata": {
        "id": "erCpfG7O7BV-"
      }
    },
    {
      "cell_type": "markdown",
      "source": [
        "Q1. Ecrivez la fonction\n",
        "\n",
        "sw_fwd(x: str, y: str, cmap: dict, sigma: array, (go, ge): list) -> (array, array)\n",
        "\n",
        "qui construit les matrices $S$ et $B$ en utilisant l'algorithme de Smith-Waterman pour aligner les séquences x et y suivant le schéma d'évaluation donné par la matrice de substitution $\\Sigma$ et la fonction d'évaluation des trous $\\gamma(n)= g_o + g_e \\times n$. Le dictionnaire cmap donne la position des différents nucléotides dans la matrice $\\Sigma$. La fonction retourne la paire de matrices de score $S$ et de retour $B$."
      ],
      "metadata": {
        "id": "rv2Y78y37IOd"
      }
    },
    {
      "cell_type": "code",
      "source": [
        "import numpy as np\n",
        "\n",
        "def sw_fwd(x, y, cmap, sigma, gaps):\n",
        "    m, n = len(x), len(y)\n",
        "    S = np.zeros((m + 1, n + 1))\n",
        "    B = np.zeros((m + 1, n + 1), dtype=int)\n",
        "    go, ge = gaps\n",
        "    for i in range(1, m + 1):\n",
        "        for j in range(1, n + 1):\n",
        "            xi, yj = cmap[x[i - 1]], cmap[y[j - 1]]\n",
        "            match = S[i - 1, j - 1] + sigma[xi, yj]\n",
        "            delete = max(S[k, j] - (go + ge * (i - k)) for k in range(i))\n",
        "            insert = max(S[i, l] - (go + ge * (j - l)) for l in range(j))\n",
        "            S[i, j] = max(0, match, delete, insert)\n",
        "            if S[i, j] == match:\n",
        "                B[i, j] = 1\n",
        "            elif S[i, j] == delete:\n",
        "                B[i, j] = 3\n",
        "            elif S[i, j] == insert:\n",
        "                B[i, j] = 2\n",
        "            else:\n",
        "                B[i, j] = 0\n",
        "\n",
        "    return S, B\n"
      ],
      "metadata": {
        "id": "njn3JB0b-WHj"
      },
      "execution_count": 31,
      "outputs": []
    },
    {
      "cell_type": "markdown",
      "source": [
        "Q2. Ecrivez la fonction\n",
        "\n",
        "sw_bwd(x: str, y: str, S: array, B: array) -> (str, str, float)\n",
        "\n",
        "qui effectue l'etape de retour de l'algorithme de Smith-Waterman etant donné les séquences $x$ et $y$ et les matrices de score $S$ et de retour $B$. La fonction retourne un tuple contenant les alignements des séquences x et y et le score de l'alignement."
      ],
      "metadata": {
        "id": "55n8mt9U-Wai"
      }
    },
    {
      "cell_type": "code",
      "source": [
        "import numpy as np\n",
        "def sw_bwd(x, y, S, B):\n",
        "    n, m = len(x), len(y)\n",
        "    i, j = np.unravel_index(S.argmax(), S.shape)\n",
        "    align_x, align_y = \"\", \"\"\n",
        "    score = S[i, j]\n",
        "\n",
        "    while B[i, j] != 0:\n",
        "        if B[i, j] == 1:\n",
        "            align_x = x[i - 1] + align_x\n",
        "            align_y = y[j - 1] + align_y\n",
        "            i -= 1\n",
        "            j -= 1\n",
        "        elif B[i, j] == 2:\n",
        "            align_x = x[i - 1] + align_x\n",
        "            align_y = \"-\" + align_y\n",
        "            i -= 1\n",
        "        elif B[i, j] == 3:\n",
        "            align_x = \"-\" + align_x\n",
        "            align_y = y[j - 1] + align_y\n",
        "            j -= 1\n",
        "\n",
        "    return align_x, align_y, score\n"
      ],
      "metadata": {
        "id": "ij9JDpBm_UZ7"
      },
      "execution_count": 32,
      "outputs": []
    },
    {
      "cell_type": "markdown",
      "source": [
        "Q3. Vous pouvez tester votre code en utilisant le schéma d'évaluation suivant :"
      ],
      "metadata": {
        "id": "kwmxg2dxAiwS"
      }
    },
    {
      "cell_type": "code",
      "source": [
        "cmap = {\"A\": 0, \"T\": 1, \"G\": 2, \"C\": 3}\n",
        "m = np.array([[1, -0.5, -0.5, -0.5],\n",
        "              [-0.5, 1, -0.5, -0.5],\n",
        "              [-0.5, -0.5, 1, -0.5],\n",
        "              [-0.5, -0.5, -0.5, 1]])\n",
        "go = 0\n",
        "ge = 0.5"
      ],
      "metadata": {
        "id": "JUtYRFTBAwwZ"
      },
      "execution_count": 33,
      "outputs": []
    },
    {
      "cell_type": "markdown",
      "source": [
        "*   $SW('TCGC', 'CTTAG')$ retourne un score de $1.5$ à la position $(3,5)$ et l'alignement\n",
        "```markdown\n",
        "x: TCG\n",
        "y: TAG\n",
        "```"
      ],
      "metadata": {
        "id": "eMGh4K5aIFxE"
      }
    },
    {
      "cell_type": "code",
      "source": [
        "S, B = sw_fwd('TCGC', 'CTTAG', cmap, m, (go, ge))\n",
        "# print(S, B)\n",
        "print(sw_bwd('TCGC', 'CTTAG', S, B))"
      ],
      "metadata": {
        "colab": {
          "base_uri": "https://localhost:8080/"
        },
        "id": "Z6oX76Wp6IW2",
        "outputId": "be22a701-6d87-42d6-a528-20d564405453"
      },
      "execution_count": 34,
      "outputs": [
        {
          "output_type": "stream",
          "name": "stdout",
          "text": [
            "('TCG', 'TAG', 1.5)\n"
          ]
        }
      ]
    },
    {
      "cell_type": "markdown",
      "source": [
        "*   $SW(AY678264^*, OQ870305^*)$ retourne un score de $342.1$ à la position $(708,717)$ et l'alignement"
      ],
      "metadata": {
        "id": "JJlU5yvZI43D"
      }
    },
    {
      "cell_type": "code",
      "source": [
        "from IPython.display import HTML\n",
        "HTML(\"<table width='300px' align='left' style='font-family:Courier New'><tr><th>x:</th><th nowrap='nowrap'>ATGGTGAGCAAGGGCGAGGAGGATAACATGGCCATCATCAAGGAGTTCATGCGCTTCAAGGTGC-A-CATGGAGGGCTCCGTGAACGGCCACGAGTTCGAGATCGAG---GGCGAGGGCGAGGGC--CGCC-CCTACGAGGGCACCCAGACCGC-CAAGCTGAAGGTG-ACCA-AGG---G-TGGCC---CCCT-GCCCTTCGCCT-GGGA-CATCCTGTCC--C--C-T-CAGTTCATGT-A-CGGCT-CCAAGGCCTACGTG-A--AGCAC--C--C--C--G-CCGACATCCCCG-A--CTAC-T--TGAAGCTG-TCCTTC--C--C-----CGA-GG--GCTTCAAGTGGGAGCG-CGTGATGAACTTCGAGGACGGCGGCGTGGTG-ACCG--T-GA-C-CCAGGAC-TC--CTCCCTGCAGGACGGCGAGTTCATCTACAAGGTG---AAGCTGCGCGGCACCAACTTCCCCT-CCGACGGCCCCGTA-ATGCA-GAAGAAGACCATGGGCTG--GGA-GGCCTCCTCCGAGCGGATGTACCCCGAGGA-CGGCGCC-CTGAAGGGCGAGATCAAGCAGA-GGCTGAAGC-TGAAGGACGGCGGCCACTACGACGCTGAGGTCAAGACCACCTACA-AGGCCAAGAAG-CCCGTGCAGCTGCCCGGC-GCCTACAACGTCAACATCAAGT-TG----GA-CATCACCTCCCACAACGAGGA-CTAC-A-C-CA---T-C-G-TGGAACAGTACG-AACGCGCCGAGGGCCGCCACTCCAC-CGGCGGCATGGACGAGCTGTACAAG</th></tr><tr><th>y:</th><th>ATGGTGAGCAAGGGCGAGGA-G----C-T-G--TTCA-C-CGG-GGTGGTGCCCATCCTGGT-CGAGC-TGGACGGCGACGTAAACGGCCACAAGTTC-AG--CGTGTCCGGCGAGGGCGAGGGCGATGCCACCTAC---GGCAAGCTGACC-CTGAAG-TTCATTTGCACCACCGGCAAGCTGCCCGTGCCCTGGCCC-AC-CCTCGTGACCACCCTGACCTACGGCGTGCAGTGC-T-TCAGCCGCTACCCCGACC-ACATGAAGCAGCACGACTTCTTCAAGTCCGCCATGCCCGAAGGCTACGTCCAGGAGC-GCACCATCTTCTTCAAGGACGACGGCAACTACAAGA-CCCGCGCCGAGGTGAAGTTCGAGGGCGACACCCTGGTGAACCGCATCGAGCTGAAGGGCATCGACTTCAAGGAGGACGGC-A--ACATC--C-TGGGGCACAAGCTG-G-AGTA-CAACTACAACAGCC-ACAACGTC-TATAT-CATG--GCCGA-CAA--GCAGAAGAACGG-CA--T-C-A-AGG-TGAACTTC-AAGATC--CGCCAC--AA---C---ATCGAG--GACGGC---AGCGTGCAGCTCGCCGACCACTACCA-GC--A-G--AACACC-CC--CATCGGCGACG--GCCCCGTGCTGCTGCCCGACAACC-ACTACCTGAGCACCCAGTCCGCCCTGAGCAA-A-GACCC-CAACGAGAAGC-GCGATCACATGGTCCTGCTGG---AGTTCGTGAC-CGCC----GCCGGGA-T-CACTC-TCGGCATGGACGAGCTGTACAAG</th></tr></table>\")"
      ],
      "metadata": {
        "colab": {
          "base_uri": "https://localhost:8080/",
          "height": 80
        },
        "id": "HUELvWKMFtIO",
        "outputId": "976bab6f-f1fc-4c5a-c69c-8de02fc838d0"
      },
      "execution_count": null,
      "outputs": [
        {
          "output_type": "execute_result",
          "data": {
            "text/plain": [
              "<IPython.core.display.HTML object>"
            ],
            "text/html": [
              "<table width='300px' align='left' style='font-family:Courier New'><tr><th>x:</th><th nowrap='nowrap'>ATGGTGAGCAAGGGCGAGGAGGATAACATGGCCATCATCAAGGAGTTCATGCGCTTCAAGGTGC-A-CATGGAGGGCTCCGTGAACGGCCACGAGTTCGAGATCGAG---GGCGAGGGCGAGGGC--CGCC-CCTACGAGGGCACCCAGACCGC-CAAGCTGAAGGTG-ACCA-AGG---G-TGGCC---CCCT-GCCCTTCGCCT-GGGA-CATCCTGTCC--C--C-T-CAGTTCATGT-A-CGGCT-CCAAGGCCTACGTG-A--AGCAC--C--C--C--G-CCGACATCCCCG-A--CTAC-T--TGAAGCTG-TCCTTC--C--C-----CGA-GG--GCTTCAAGTGGGAGCG-CGTGATGAACTTCGAGGACGGCGGCGTGGTG-ACCG--T-GA-C-CCAGGAC-TC--CTCCCTGCAGGACGGCGAGTTCATCTACAAGGTG---AAGCTGCGCGGCACCAACTTCCCCT-CCGACGGCCCCGTA-ATGCA-GAAGAAGACCATGGGCTG--GGA-GGCCTCCTCCGAGCGGATGTACCCCGAGGA-CGGCGCC-CTGAAGGGCGAGATCAAGCAGA-GGCTGAAGC-TGAAGGACGGCGGCCACTACGACGCTGAGGTCAAGACCACCTACA-AGGCCAAGAAG-CCCGTGCAGCTGCCCGGC-GCCTACAACGTCAACATCAAGT-TG----GA-CATCACCTCCCACAACGAGGA-CTAC-A-C-CA---T-C-G-TGGAACAGTACG-AACGCGCCGAGGGCCGCCACTCCAC-CGGCGGCATGGACGAGCTGTACAAG</th></tr><tr><th>y:</th><th>ATGGTGAGCAAGGGCGAGGA-G----C-T-G--TTCA-C-CGG-GGTGGTGCCCATCCTGGT-CGAGC-TGGACGGCGACGTAAACGGCCACAAGTTC-AG--CGTGTCCGGCGAGGGCGAGGGCGATGCCACCTAC---GGCAAGCTGACC-CTGAAG-TTCATTTGCACCACCGGCAAGCTGCCCGTGCCCTGGCCC-AC-CCTCGTGACCACCCTGACCTACGGCGTGCAGTGC-T-TCAGCCGCTACCCCGACC-ACATGAAGCAGCACGACTTCTTCAAGTCCGCCATGCCCGAAGGCTACGTCCAGGAGC-GCACCATCTTCTTCAAGGACGACGGCAACTACAAGA-CCCGCGCCGAGGTGAAGTTCGAGGGCGACACCCTGGTGAACCGCATCGAGCTGAAGGGCATCGACTTCAAGGAGGACGGC-A--ACATC--C-TGGGGCACAAGCTG-G-AGTA-CAACTACAACAGCC-ACAACGTC-TATAT-CATG--GCCGA-CAA--GCAGAAGAACGG-CA--T-C-A-AGG-TGAACTTC-AAGATC--CGCCAC--AA---C---ATCGAG--GACGGC---AGCGTGCAGCTCGCCGACCACTACCA-GC--A-G--AACACC-CC--CATCGGCGACG--GCCCCGTGCTGCTGCCCGACAACC-ACTACCTGAGCACCCAGTCCGCCCTGAGCAA-A-GACCC-CAACGAGAAGC-GCGATCACATGGTCCTGCTGG---AGTTCGTGAC-CGCC----GCCGGGA-T-CACTC-TCGGCATGGACGAGCTGTACAAG</th></tr></table>"
            ]
          },
          "metadata": {},
          "execution_count": 15
        }
      ]
    },
    {
      "cell_type": "code",
      "source": [
        "# S, B = sw_fwd('ATGGTGAGCAAGGGCGAGGAGGATAACATGGCCATCATCAAGGAGTTCATGCGCTTCAAGGTGCACATGGAGGGCTCCGTGAACGGCCACGAGTTCGAGATCGAGGGCGAGGGCGAGGGCCGCCCCTACGAGGGCACCCAGACCGCCAAGCTGAAGGTGACCAAGGGTGGCCCCCTGCCCTTCGCCTGGGACATCCTGTCCCCTCAGTTCATGTACGGCTCCAAGGCCTACGTGAAGCACCCCGCCGACATCCCCGACTACTTGAAGCTGTCCTTCCCCGAGGGCTTCAAGTGGGAGCGCGTGATGAACTTCGAGGACGGCGGCGTGGTGACCGTGACCCAGGACTCCTCCCTGCAGGACGGCGAGTTCATCTACAAGGTGAAGCTGCGCGGCACCAACTTCCCCTCCGACGGCCCCGTAATGCAGAAGAAGACCATGGGCTGGGAGGCCTCCTCCGAGCGGATGTACCCCGAGGACGGCGCCCTGAAGGGCGAGATCAAGCAGAGGCTGAAGCTGAAGGACGGCGGCCACTACGACGCTGAGGTCAAGACCACCTACAAGGCCAAGAAGCCCGTGCAGCTGCCCGGCGCCTACAACGTCAACATCAAGTTGGACATCACCTCCCACAACGAGGACTACACCATCGTGGAACAGTACGAACGCGCCGAGGGCCGCCACTCCACCGGCGGCATGGACGAGCTGTACAAGTAA',\n",
        "#               'ATGGTCTCCTTCAAATCTCTCCTAGTTCTCTGTTGCGCTGCCCTTGGGGCATTCGCTACGAAGAGAATGAGTAAAGGAGAAGAACTTTTCACTGGAGTTGTCCCAATTCTTGTTGAATTAGATGGTGATGTTAATGGGCACAAATTTTCTGTCAGTGGAGAGGGTGAAGGTGATGCAACATACGGAAAACTTACCCTTAAATTTATTTGCACTACTGGAAAACTACCTGTTCCATGGCCAACACTTGTCACTACTTTCACCTATGGTGTTCAATGCTTTTCAAGATACCCAGATCATATGAAGCGGCACGACTTCTTCAAGAGCGCCATGCCTGAGGGATACGTGCAGGAGAGGACCATCTTCTTCAAAGACGACGGGAACTACAAGACACGTGCTGAAGTCAAGTTTGAGGGAGACACCCTCGTCAACAGGATCGAGCTTAAGGGAATCGATTTCAAGGAGGACGGAAACATCCTCGGCCACAAGTTGGAATACAACTACAACTCCCACAACGTATACATCATGGCCGACAAGCAAAAGAACGGCATCAAAGCCAACTTCAAGACCCGCCACAACATCGAAGACGGCGGCGTGCAACTCGCTGATCATTATCAACAAAATACTCCAATTGGCGATGGCCCTGTCCTTTTACCAGACAACCATTACCTGTCCACACAATCTGCCCTTTCGAAAGATCCCAACGAAAAGAGAGACCACATGGTCCTTCTTGAGTTTGTAACAGCTGCTGGGATTACACATGGCATGGATGAACTATACAAATAA',\n",
        "#               cmap, m, (go, ge))\n",
        "# print(S, B)\n",
        "# print(sw_bwd('ATGGTGAGCAAGGGCGAGGAGGATAACATGGCCATCATCAAGGAGTTCATGCGCTTCAAGGTGCACATGGAGGGCTCCGTGAACGGCCACGAGTTCGAGATCGAGGGCGAGGGCGAGGGCCGCCCCTACGAGGGCACCCAGACCGCCAAGCTGAAGGTGACCAAGGGTGGCCCCCTGCCCTTCGCCTGGGACATCCTGTCCCCTCAGTTCATGTACGGCTCCAAGGCCTACGTGAAGCACCCCGCCGACATCCCCGACTACTTGAAGCTGTCCTTCCCCGAGGGCTTCAAGTGGGAGCGCGTGATGAACTTCGAGGACGGCGGCGTGGTGACCGTGACCCAGGACTCCTCCCTGCAGGACGGCGAGTTCATCTACAAGGTGAAGCTGCGCGGCACCAACTTCCCCTCCGACGGCCCCGTAATGCAGAAGAAGACCATGGGCTGGGAGGCCTCCTCCGAGCGGATGTACCCCGAGGACGGCGCCCTGAAGGGCGAGATCAAGCAGAGGCTGAAGCTGAAGGACGGCGGCCACTACGACGCTGAGGTCAAGACCACCTACAAGGCCAAGAAGCCCGTGCAGCTGCCCGGCGCCTACAACGTCAACATCAAGTTGGACATCACCTCCCACAACGAGGACTACACCATCGTGGAACAGTACGAACGCGCCGAGGGCCGCCACTCCACCGGCGGCATGGACGAGCTGTACAAGTAA',\n",
        "#              'ATGGTCTCCTTCAAATCTCTCCTAGTTCTCTGTTGCGCTGCCCTTGGGGCATTCGCTACGAAGAGAATGAGTAAAGGAGAAGAACTTTTCACTGGAGTTGTCCCAATTCTTGTTGAATTAGATGGTGATGTTAATGGGCACAAATTTTCTGTCAGTGGAGAGGGTGAAGGTGATGCAACATACGGAAAACTTACCCTTAAATTTATTTGCACTACTGGAAAACTACCTGTTCCATGGCCAACACTTGTCACTACTTTCACCTATGGTGTTCAATGCTTTTCAAGATACCCAGATCATATGAAGCGGCACGACTTCTTCAAGAGCGCCATGCCTGAGGGATACGTGCAGGAGAGGACCATCTTCTTCAAAGACGACGGGAACTACAAGACACGTGCTGAAGTCAAGTTTGAGGGAGACACCCTCGTCAACAGGATCGAGCTTAAGGGAATCGATTTCAAGGAGGACGGAAACATCCTCGGCCACAAGTTGGAATACAACTACAACTCCCACAACGTATACATCATGGCCGACAAGCAAAAGAACGGCATCAAAGCCAACTTCAAGACCCGCCACAACATCGAAGACGGCGGCGTGCAACTCGCTGATCATTATCAACAAAATACTCCAATTGGCGATGGCCCTGTCCTTTTACCAGACAACCATTACCTGTCCACACAATCTGCCCTTTCGAAAGATCCCAACGAAAAGAGAGACCACATGGTCCTTCTTGAGTTTGTAACAGCTGCTGGGATTACACATGGCATGGATGAACTATACAAATAA',\n",
        "#              S, B))"
      ],
      "metadata": {
        "id": "SEMmceJz8N7D"
      },
      "execution_count": 29,
      "outputs": []
    },
    {
      "cell_type": "markdown",
      "source": [
        "# Exercice 3 : Distribution des scores d’alignement pour des séquences aléatoires\n",
        "\n",
        "Pour tester si un alignement reflète une réelle similarité biologique, on va évaluer la distribution des scores d’alignement pour des paires de séquences aléatoires."
      ],
      "metadata": {
        "id": "Q5jVeLfgMMtA"
      }
    },
    {
      "cell_type": "markdown",
      "source": [
        "Q1. En considérant deux séquences aléatoires de même taille N, où chaque nucléotide apparaît avec une probabilité uniforme de ¼, calculer le score moyen attendu pour une superposition sans trou dans le cas où une identité vaut +1 et une différence vaut 0."
      ],
      "metadata": {
        "id": "6xyXw0HsMQGf"
      }
    },
    {
      "cell_type": "markdown",
      "source": [
        "```markdown\n",
        "N / 4\n",
        "```"
      ],
      "metadata": {
        "id": "meF18gt-Mhcn"
      }
    },
    {
      "cell_type": "markdown",
      "source": [
        "Q2. La question précédente peut se resoudre analytiquement car on ne considère pas de trou. Pour étendre le résultat precedent à un alignement avec trous, on va se baser sur la simulation de séquences aleatoires.\n",
        "\n",
        "Générez $R$ paires de séquences aléatoires  de tailles $N$ avec des probabilitées uniformes d'apparition de nucléotides $p_A = p_T = p_G = p_C = $ ¼. Affichez sous forme de violinplots les distribution des scores d'alignements entre chaque paire, obtenu par :\n",
        "  1. un alignement sans trou (cf. Q1) ;\n",
        "  2. un alignement local via Smith-Waterman (utilisez le code de l'exercice précédent)\n",
        "\n",
        "Utilisez le schéma d'évaluation suivant :"
      ],
      "metadata": {
        "id": "fP5_mHnYMkNI"
      }
    },
    {
      "cell_type": "code",
      "source": [
        "rmap = {\"A\": 0, \"T\": 1, \"G\": 2, \"C\": 3}\n",
        "sigma = np.array([[1, -0.5, -0.5, -0.5],\n",
        "                  [-0.5, 1, -0.5, -0.5],\n",
        "                  [-0.5, -0.5, 1, -0.5],\n",
        "                  [-0.5, -0.5, -0.5, 1]])\n",
        "go =0\n",
        "ge = 0.5"
      ],
      "metadata": {
        "id": "akUVqotnOLkH"
      },
      "execution_count": 37,
      "outputs": []
    },
    {
      "cell_type": "code",
      "source": [
        "import numpy as np\n",
        "import matplotlib.pyplot as plt\n",
        "import seaborn as sns\n",
        "\n",
        "def generate_random_sequence(length):\n",
        "    nucleotides = [\"A\", \"T\", \"G\", \"C\"]\n",
        "    return ''.join(np.random.choice(nucleotides) for _ in range(length))\n",
        "\n",
        "def calculate_alignment_score_no_gaps(seq1, seq2, sigma, cmap):\n",
        "    score = 0\n",
        "    for i in range(len(seq1)):\n",
        "        score += sigma[cmap[seq1[i]], cmap[seq2[i]]]\n",
        "    return score\n",
        "\n",
        "R = 100\n",
        "N = 50\n",
        "\n",
        "scores_no_gaps = []\n",
        "scores_sw = []\n",
        "\n",
        "for _ in range(R):\n",
        "    seq1 = generate_random_sequence(N)\n",
        "    seq2 = generate_random_sequence(N)\n",
        "\n",
        "    scores_no_gaps.append(calculate_alignment_score_no_gaps(seq1, seq2, sigma, cmap))\n",
        "\n",
        "    S, B = sw_fwd(seq1, seq2, cmap, sigma, (go, ge))\n",
        "    _, _, sw_score = sw_bwd(seq1, seq2, S, B)\n",
        "    scores_sw.append(sw_score)\n",
        "\n",
        "plt.figure(figsize=(10, 6))\n",
        "sns.violinplot(data=[scores_no_gaps, scores_sw], palette=\"Set2\")\n",
        "plt.xticks([0, 1], ['No Gaps', 'Smith-Waterman'])\n",
        "plt.ylabel('Alignment Score')\n",
        "plt.title('Distribution of Alignment Scores')\n",
        "plt.show()\n"
      ],
      "metadata": {
        "id": "UX0afNaqOVZ2",
        "colab": {
          "base_uri": "https://localhost:8080/",
          "height": 545
        },
        "outputId": "35fb9f92-8f45-4455-cd1e-dbde58c56a28"
      },
      "execution_count": 38,
      "outputs": [
        {
          "output_type": "display_data",
          "data": {
            "text/plain": [
              "<Figure size 1000x600 with 1 Axes>"
            ],
            "image/png": "[encoded data removed]"
          },
          "metadata": {}
        }
      ]
    },
    {
      "cell_type": "markdown",
      "source": [
        "Q3. Qu'observez-vous ?"
      ],
      "metadata": {
        "id": "UNn9fUuXO4Le"
      }
    },
    {
      "cell_type": "markdown",
      "source": [
        "```markdown\n",
        "La distribution sans trous est plus large car il est plus compliqué d'aligner les séquences sans les trous,\n",
        "donc le score en devient moins grand\n",
        "```"
      ],
      "metadata": {
        "id": "dSQEl0XXO8IG"
      }
    },
    {
      "cell_type": "markdown",
      "source": [
        "Q4. Quelle conclusion peut-on en tirer sur la significativité d'un alignement ?"
      ],
      "metadata": {
        "id": "xHfVXpQhf15n"
      }
    },
    {
      "cell_type": "markdown",
      "source": [
        "```markdown\n",
        "Les algorithmes d'alignements doivent dépasser un certain seuil pour pouvoir être significatif,\n",
        "tout en dépassant largement le score du génome naturel.\n",
        "```"
      ],
      "metadata": {
        "id": "5KjhEeHDgDns"
      }
    }
  ]
}