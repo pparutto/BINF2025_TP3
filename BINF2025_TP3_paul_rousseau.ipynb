{
  "nbformat": 4,
  "nbformat_minor": 0,
  "metadata": {
    "colab": {
      "provenance": []
    },
    "kernelspec": {
      "name": "python3",
      "display_name": "Python 3"
    },
    "language_info": {
      "name": "python"
    }
  },
  "cells": [
    {
      "cell_type": "markdown",
      "source": [
        "# BINF TP3 - Algorithmes d'alignement par paire"
      ],
      "metadata": {
        "id": "V09wQ1WIOmgn"
      }
    },
    {
      "cell_type": "markdown",
      "source": [
        "Dans ce TP nous allons manipuler les algorithmes d'alignement par paire."
      ],
      "metadata": {
        "id": "er6CtAyOxC6F"
      }
    },
    {
      "cell_type": "markdown",
      "source": [
        "# Exercice 0 - Echauffement"
      ],
      "metadata": {
        "id": "BqEa3BJ1xICM"
      }
    },
    {
      "cell_type": "markdown",
      "source": [
        "Q1. Donnez le score de la superposition :\n",
        "\n",
        "|       |       |\n",
        "| :---: | :---: |\n",
        "x       | ATGTCATGA---TAC |\n",
        "y       | AT--CTAAATGTTAC |\n",
        "\n",
        "\n",
        "étant donne le schéma d'évaluation :\n",
        "\n",
        "|       | A     | T     | G     | C     |\n",
        "| :---: | :---: | :---: | :---: | :---: |\n",
        "| **A** | 1     | -1    | -1    | -1    |\n",
        "| **T** | -1    | 1     | -1    | -1    |\n",
        "| **G** | -1    | -1    | 1     | -1    |\n",
        "| **C** | -1    | -1    | -1    | 1     |\n",
        "\n",
        "et\n",
        "\n",
        "$\\gamma(g) = 0.5 |g| + 0.5$"
      ],
      "metadata": {
        "id": "qqiiq5bcxYvM"
      }
    },
    {
      "cell_type": "markdown",
      "source": [
        "```markdown\n",
        "0,5\n",
        "```"
      ],
      "metadata": {
        "id": "kCJGGGYQ2GNi"
      }
    },
    {
      "cell_type": "markdown",
      "source": [
        "Q2. Alignez les séquences suivantes avec l'algorithme de Levenshtein :  x = ATG et y = ACTG."
      ],
      "metadata": {
        "id": "XyhXAhK-2NKJ"
      }
    },
    {
      "cell_type": "markdown",
      "source": [
        "```markdown\n",
        "x = A-TG y = ACTG\n",
        "```"
      ],
      "metadata": {
        "id": "b9iovhyZ2bXw"
      }
    },
    {
      "cell_type": "markdown",
      "source": [
        "Q3.\tAlignez les séquences suivantes avec l'algorithme de Needleman-Wunsch global x = TAT et y = ATGAC en considérant le schéma d'évaluation suivant\n",
        "\n",
        "|       | A       | T       | G       | C     |\n",
        "| :---: | :---:   | :---:   | :---:   | :---: |\n",
        "| **A** | 1       | -0.5    | -0.5    | -0.5  |\n",
        "| **T** | -0.5    | 1       | -0.5    | -0.5  |\n",
        "| **G** | -0.5    | -0.5    | 1       | -0.5  |\n",
        "| **C** | -0.5    | -0.5    | -0.5    | 1     |\n",
        "\n",
        "et\n",
        "\n",
        "$\\gamma(g) = 0.5 |g|$\n"
      ],
      "metadata": {
        "id": "OV_YaQHr2elB"
      }
    },
    {
      "cell_type": "markdown",
      "source": [
        "```markdown\n",
        "x = -TAT- et y = ATGAC\n",
        "```"
      ],
      "metadata": {
        "id": "g_MrecVs3Nrw"
      }
    },
    {
      "cell_type": "markdown",
      "source": [
        "Q4. Alignez les séquences suivantes avec l'algorithme de Smith-Waterman x = TTGG y = ATGAC en utilisant le schéma d'évaluation de la question précédente.\n"
      ],
      "metadata": {
        "id": "y1YF-G6E3Qoo"
      }
    },
    {
      "cell_type": "markdown",
      "source": [
        "```markdown\n",
        "Votre réponse ici\n",
        "```"
      ],
      "metadata": {
        "id": "LLMECocb3pgI"
      }
    },
    {
      "cell_type": "markdown",
      "source": [
        "# Exercice 1 : Algorithme de Levenshtein - version récursive"
      ],
      "metadata": {
        "id": "46gw0avh3wGw"
      }
    },
    {
      "cell_type": "markdown",
      "source": [
        "Q1. Ecrivez une fonction\n",
        "\n",
        "levenshtein(x: str, y: str) -> int\n",
        "\n",
        "qui retourne la distance de Levenshtein entre les séquences x et y en utilisant la  version récursive de l'algorithme."
      ],
      "metadata": {
        "id": "ZKc09Kyg4a6v"
      }
    },
    {
      "cell_type": "code",
      "source": [
        "import numpy as np\n",
        "import matplotlib.pyplot as plt\n",
        "import seaborn as sns\n",
        "\n",
        "def levenshtein(x, y):\n",
        "    if not x:\n",
        "        return len(y)\n",
        "    if not y:\n",
        "        return len(x)\n",
        "    return min(\n",
        "        levenshtein(x[1:], y) + 1,\n",
        "        levenshtein(x, y[1:]) + 1,\n",
        "        levenshtein(x[1:], y[1:]) + (x[0] != y[0])\n",
        "    )\n",
        "\n",
        "print(levenshtein('CCAG','CA'))\n",
        "print(levenshtein('CCGT','CGTCA'))"
      ],
      "metadata": {
        "id": "FJR69IEQ4aHv",
        "colab": {
          "base_uri": "https://localhost:8080/"
        },
        "outputId": "c5d40d01-71ea-4c39-94de-37761acc9344"
      },
      "execution_count": 2,
      "outputs": [
        {
          "output_type": "stream",
          "name": "stdout",
          "text": [
            "2\n",
            "3\n"
          ]
        }
      ]
    },
    {
      "cell_type": "markdown",
      "source": [
        "Q2. Vous pouvez tester votre code sur les exemples suivants:\n",
        "\n",
        "\n",
        "*   $L('CCAG', 'CA') = 2$\n",
        "*   $L('CCGT', 'CGTCA') = 3$\n",
        "*   $L(AY678264^*, OQ870305^*) = 310$\n",
        "\n",
        "$^*$ ids genbank de deux sequences."
      ],
      "metadata": {
        "id": "arFVwA6E5NWn"
      }
    },
    {
      "cell_type": "markdown",
      "source": [
        "# Exercice 2 : Algorithme de Smith-Waterman - version itérative"
      ],
      "metadata": {
        "id": "erCpfG7O7BV-"
      }
    },
    {
      "cell_type": "markdown",
      "source": [
        "Q1. Ecrivez la fonction\n",
        "\n",
        "sw_fwd(x: str, y: str, cmap: dict, sigma: array, (go, ge): list) -> (array, array)\n",
        "\n",
        "qui construit les matrices $S$ et $B$ en utilisant l'algorithme de Smith-Waterman pour aligner les séquences x et y suivant le schéma d'évaluation donné par la matrice de substitution $\\Sigma$ et la fonction d'évaluation des trous $\\gamma(n)= g_o + g_e \\times n$. Le dictionnaire cmap donne la position des différents nucléotides dans la matrice $\\Sigma$. La fonction retourne la paire de matrices de score $S$ et de retour $B$."
      ],
      "metadata": {
        "id": "rv2Y78y37IOd"
      }
    },
    {
      "cell_type": "code",
      "source": [
        "def sw_fwd(x, y, cmap, sigma, gap_params):\n",
        "    go, ge = gap_params\n",
        "    S = np.zeros((len(x) + 1, len(y) + 1))\n",
        "    B = np.zeros((len(x) + 1, len(y) + 1), dtype=int)\n",
        "\n",
        "    for i in range(1, len(x) + 1):\n",
        "        for j in range(1, len(y) + 1):\n",
        "            match = S[i - 1][j - 1] + sigma[cmap[x[i - 1]]][cmap[y[j - 1]]]\n",
        "            delete = S[i - 1][j] - ge\n",
        "            insert = S[i][j - 1] - ge\n",
        "            S[i][j] = max(0, match, delete, insert)\n",
        "            B[i][j] = np.argmax([0, match, delete, insert])\n",
        "\n",
        "    return S, B"
      ],
      "metadata": {
        "id": "njn3JB0b-WHj"
      },
      "execution_count": 3,
      "outputs": []
    },
    {
      "cell_type": "markdown",
      "source": [
        "Q2. Ecrivez la fonction\n",
        "\n",
        "sw_bwd(x: str, y: str, S: array, B: array) -> (str, str, float)\n",
        "\n",
        "qui effectue l'etape de retour de l'algorithme de Smith-Waterman etant donné les séquences $x$ et $y$ et les matrices de score $S$ et de retour $B$. La fonction retourne un tuple contenant les alignements des séquences x et y et le score de l'alignement."
      ],
      "metadata": {
        "id": "55n8mt9U-Wai"
      }
    },
    {
      "cell_type": "code",
      "source": [
        "def sw_bwd(x, y, S, B):\n",
        "    i, j = np.unravel_index(np.argmax(S), S.shape)\n",
        "    aligned_x, aligned_y = [], []\n",
        "    score = S[i][j]\n",
        "\n",
        "    while S[i][j] > 0:\n",
        "        if B[i][j] == 1:\n",
        "            aligned_x.append(x[i - 1])\n",
        "            aligned_y.append(y[j - 1])\n",
        "            i -= 1\n",
        "            j -= 1\n",
        "        elif B[i][j] == 2:\n",
        "            aligned_x.append(x[i - 1])\n",
        "            aligned_y.append('-')\n",
        "            i -= 1\n",
        "        elif B[i][j] == 3:\n",
        "            aligned_x.append('-')\n",
        "            aligned_y.append(y[j - 1])\n",
        "            j -= 1\n",
        "\n",
        "    return \"\".join(reversed(aligned_x)), \"\".join(reversed(aligned_y)), score"
      ],
      "metadata": {
        "id": "ij9JDpBm_UZ7"
      },
      "execution_count": 14,
      "outputs": []
    },
    {
      "cell_type": "markdown",
      "source": [
        "Q3. Vous pouvez tester votre code en utilisant le schéma d'évaluation suivant :"
      ],
      "metadata": {
        "id": "kwmxg2dxAiwS"
      }
    },
    {
      "cell_type": "code",
      "source": [
        "cmap = {\"A\": 0, \"T\": 1, \"G\": 2, \"C\": 3}\n",
        "m = np.array([[1, -0.5, -0.5, -0.5],\n",
        "              [-0.5, 1, -0.5, -0.5],\n",
        "              [-0.5, -0.5, 1, -0.5],\n",
        "              [-0.5, -0.5, -0.5, 1]])\n",
        "go = 0\n",
        "ge = 0.5"
      ],
      "metadata": {
        "id": "JUtYRFTBAwwZ"
      },
      "execution_count": 15,
      "outputs": []
    },
    {
      "cell_type": "code",
      "source": [
        "S, B = sw_fwd('TCGC', 'CTTAG', cmap, m, (go, ge))\n",
        "x, y, score = sw_bwd('TCGC', 'CTTAG', S, B)\n",
        "print(x)\n",
        "print(y)\n",
        "print(score)"
      ],
      "metadata": {
        "colab": {
          "base_uri": "https://localhost:8080/"
        },
        "id": "AYRAz_1V8zXz",
        "outputId": "e4b6829b-3350-47cb-e14d-b3c0bcb07cf4"
      },
      "execution_count": 17,
      "outputs": [
        {
          "output_type": "stream",
          "name": "stdout",
          "text": [
            "TCG\n",
            "TAG\n",
            "1.5\n"
          ]
        }
      ]
    },
    {
      "cell_type": "markdown",
      "source": [
        "*   $SW('TCGC', 'CTTAG')$ retourne un score de $1.5$ à la position $(3,5)$ et l'alignement"
      ],
      "metadata": {
        "id": "eMGh4K5aIFxE"
      }
    },
    {
      "cell_type": "code",
      "source": [
        "HTML(\"<table align='left' style='font-family:Courier New'><tr><th>x:</th><th>TCG</th></tr><tr><th>y:</th><th>TAG</th></tr></table>\")"
      ],
      "metadata": {
        "colab": {
          "base_uri": "https://localhost:8080/",
          "height": 141
        },
        "id": "joHNwJ9AIf6F",
        "outputId": "de5f467e-ddb0-4585-f3ec-e3499ad84f03"
      },
      "execution_count": 8,
      "outputs": [
        {
          "output_type": "error",
          "ename": "NameError",
          "evalue": "name 'HTML' is not defined",
          "traceback": [
            "\u001b[0;31m---------------------------------------------------------------------------\u001b[0m",
            "\u001b[0;31mNameError\u001b[0m                                 Traceback (most recent call last)",
            "\u001b[0;32m<ipython-input-8-58f1e527e6fd>\u001b[0m in \u001b[0;36m<cell line: 0>\u001b[0;34m()\u001b[0m\n\u001b[0;32m----> 1\u001b[0;31m \u001b[0mHTML\u001b[0m\u001b[0;34m(\u001b[0m\u001b[0;34m\"<table align='left' style='font-family:Courier New'><tr><th>x:</th><th>TCG</th></tr><tr><th>y:</th><th>TAG</th></tr></table>\"\u001b[0m\u001b[0;34m)\u001b[0m\u001b[0;34m\u001b[0m\u001b[0;34m\u001b[0m\u001b[0m\n\u001b[0m",
            "\u001b[0;31mNameError\u001b[0m: name 'HTML' is not defined"
          ]
        }
      ]
    },
    {
      "cell_type": "markdown",
      "source": [
        "*   $SW(AY678264^*, OQ870305^*)$ retourne un score de $342.1$ à la position $(708,717)$ et l'alignement"
      ],
      "metadata": {
        "id": "JJlU5yvZI43D"
      }
    },
    {
      "cell_type": "code",
      "source": [
        "from IPython.display import HTML\n",
        "HTML(\"<table width='300px' align='left' style='font-family:Courier New'><tr><th>x:</th><th nowrap='nowrap'>ATGGTGAGCAAGGGCGAGGAGGATAACATGGCCATCATCAAGGAGTTCATGCGCTTCAAGGTGC-A-CATGGAGGGCTCCGTGAACGGCCACGAGTTCGAGATCGAG---GGCGAGGGCGAGGGC--CGCC-CCTACGAGGGCACCCAGACCGC-CAAGCTGAAGGTG-ACCA-AGG---G-TGGCC---CCCT-GCCCTTCGCCT-GGGA-CATCCTGTCC--C--C-T-CAGTTCATGT-A-CGGCT-CCAAGGCCTACGTG-A--AGCAC--C--C--C--G-CCGACATCCCCG-A--CTAC-T--TGAAGCTG-TCCTTC--C--C-----CGA-GG--GCTTCAAGTGGGAGCG-CGTGATGAACTTCGAGGACGGCGGCGTGGTG-ACCG--T-GA-C-CCAGGAC-TC--CTCCCTGCAGGACGGCGAGTTCATCTACAAGGTG---AAGCTGCGCGGCACCAACTTCCCCT-CCGACGGCCCCGTA-ATGCA-GAAGAAGACCATGGGCTG--GGA-GGCCTCCTCCGAGCGGATGTACCCCGAGGA-CGGCGCC-CTGAAGGGCGAGATCAAGCAGA-GGCTGAAGC-TGAAGGACGGCGGCCACTACGACGCTGAGGTCAAGACCACCTACA-AGGCCAAGAAG-CCCGTGCAGCTGCCCGGC-GCCTACAACGTCAACATCAAGT-TG----GA-CATCACCTCCCACAACGAGGA-CTAC-A-C-CA---T-C-G-TGGAACAGTACG-AACGCGCCGAGGGCCGCCACTCCAC-CGGCGGCATGGACGAGCTGTACAAG</th></tr><tr><th>y:</th><th>ATGGTGAGCAAGGGCGAGGA-G----C-T-G--TTCA-C-CGG-GGTGGTGCCCATCCTGGT-CGAGC-TGGACGGCGACGTAAACGGCCACAAGTTC-AG--CGTGTCCGGCGAGGGCGAGGGCGATGCCACCTAC---GGCAAGCTGACC-CTGAAG-TTCATTTGCACCACCGGCAAGCTGCCCGTGCCCTGGCCC-AC-CCTCGTGACCACCCTGACCTACGGCGTGCAGTGC-T-TCAGCCGCTACCCCGACC-ACATGAAGCAGCACGACTTCTTCAAGTCCGCCATGCCCGAAGGCTACGTCCAGGAGC-GCACCATCTTCTTCAAGGACGACGGCAACTACAAGA-CCCGCGCCGAGGTGAAGTTCGAGGGCGACACCCTGGTGAACCGCATCGAGCTGAAGGGCATCGACTTCAAGGAGGACGGC-A--ACATC--C-TGGGGCACAAGCTG-G-AGTA-CAACTACAACAGCC-ACAACGTC-TATAT-CATG--GCCGA-CAA--GCAGAAGAACGG-CA--T-C-A-AGG-TGAACTTC-AAGATC--CGCCAC--AA---C---ATCGAG--GACGGC---AGCGTGCAGCTCGCCGACCACTACCA-GC--A-G--AACACC-CC--CATCGGCGACG--GCCCCGTGCTGCTGCCCGACAACC-ACTACCTGAGCACCCAGTCCGCCCTGAGCAA-A-GACCC-CAACGAGAAGC-GCGATCACATGGTCCTGCTGG---AGTTCGTGAC-CGCC----GCCGGGA-T-CACTC-TCGGCATGGACGAGCTGTACAAG</th></tr></table>\")"
      ],
      "metadata": {
        "colab": {
          "base_uri": "https://localhost:8080/",
          "height": 82
        },
        "id": "HUELvWKMFtIO",
        "outputId": "bc7b50a6-9d90-42c8-facc-966dad0f8df0"
      },
      "execution_count": 18,
      "outputs": [
        {
          "output_type": "execute_result",
          "data": {
            "text/plain": [
              "<IPython.core.display.HTML object>"
            ],
            "text/html": [
              "<table width='300px' align='left' style='font-family:Courier New'><tr><th>x:</th><th nowrap='nowrap'>ATGGTGAGCAAGGGCGAGGAGGATAACATGGCCATCATCAAGGAGTTCATGCGCTTCAAGGTGC-A-CATGGAGGGCTCCGTGAACGGCCACGAGTTCGAGATCGAG---GGCGAGGGCGAGGGC--CGCC-CCTACGAGGGCACCCAGACCGC-CAAGCTGAAGGTG-ACCA-AGG---G-TGGCC---CCCT-GCCCTTCGCCT-GGGA-CATCCTGTCC--C--C-T-CAGTTCATGT-A-CGGCT-CCAAGGCCTACGTG-A--AGCAC--C--C--C--G-CCGACATCCCCG-A--CTAC-T--TGAAGCTG-TCCTTC--C--C-----CGA-GG--GCTTCAAGTGGGAGCG-CGTGATGAACTTCGAGGACGGCGGCGTGGTG-ACCG--T-GA-C-CCAGGAC-TC--CTCCCTGCAGGACGGCGAGTTCATCTACAAGGTG---AAGCTGCGCGGCACCAACTTCCCCT-CCGACGGCCCCGTA-ATGCA-GAAGAAGACCATGGGCTG--GGA-GGCCTCCTCCGAGCGGATGTACCCCGAGGA-CGGCGCC-CTGAAGGGCGAGATCAAGCAGA-GGCTGAAGC-TGAAGGACGGCGGCCACTACGACGCTGAGGTCAAGACCACCTACA-AGGCCAAGAAG-CCCGTGCAGCTGCCCGGC-GCCTACAACGTCAACATCAAGT-TG----GA-CATCACCTCCCACAACGAGGA-CTAC-A-C-CA---T-C-G-TGGAACAGTACG-AACGCGCCGAGGGCCGCCACTCCAC-CGGCGGCATGGACGAGCTGTACAAG</th></tr><tr><th>y:</th><th>ATGGTGAGCAAGGGCGAGGA-G----C-T-G--TTCA-C-CGG-GGTGGTGCCCATCCTGGT-CGAGC-TGGACGGCGACGTAAACGGCCACAAGTTC-AG--CGTGTCCGGCGAGGGCGAGGGCGATGCCACCTAC---GGCAAGCTGACC-CTGAAG-TTCATTTGCACCACCGGCAAGCTGCCCGTGCCCTGGCCC-AC-CCTCGTGACCACCCTGACCTACGGCGTGCAGTGC-T-TCAGCCGCTACCCCGACC-ACATGAAGCAGCACGACTTCTTCAAGTCCGCCATGCCCGAAGGCTACGTCCAGGAGC-GCACCATCTTCTTCAAGGACGACGGCAACTACAAGA-CCCGCGCCGAGGTGAAGTTCGAGGGCGACACCCTGGTGAACCGCATCGAGCTGAAGGGCATCGACTTCAAGGAGGACGGC-A--ACATC--C-TGGGGCACAAGCTG-G-AGTA-CAACTACAACAGCC-ACAACGTC-TATAT-CATG--GCCGA-CAA--GCAGAAGAACGG-CA--T-C-A-AGG-TGAACTTC-AAGATC--CGCCAC--AA---C---ATCGAG--GACGGC---AGCGTGCAGCTCGCCGACCACTACCA-GC--A-G--AACACC-CC--CATCGGCGACG--GCCCCGTGCTGCTGCCCGACAACC-ACTACCTGAGCACCCAGTCCGCCCTGAGCAA-A-GACCC-CAACGAGAAGC-GCGATCACATGGTCCTGCTGG---AGTTCGTGAC-CGCC----GCCGGGA-T-CACTC-TCGGCATGGACGAGCTGTACAAG</th></tr></table>"
            ]
          },
          "metadata": {},
          "execution_count": 18
        }
      ]
    },
    {
      "cell_type": "markdown",
      "source": [
        "# Exercice 3 : Distribution des scores d’alignement pour des séquences aléatoires\n",
        "\n",
        "Pour tester si un alignement reflète une réelle similarité biologique, on va évaluer la distribution des scores d’alignement pour des paires de séquences aléatoires."
      ],
      "metadata": {
        "id": "Q5jVeLfgMMtA"
      }
    },
    {
      "cell_type": "markdown",
      "source": [
        "Q1. En considérant deux séquences aléatoires de même taille N, où chaque nucléotide apparaît avec une probabilité uniforme de ¼, calculer le score moyen attendu pour une superposition sans trou dans le cas où une identité vaut +1 et une différence vaut 0."
      ],
      "metadata": {
        "id": "6xyXw0HsMQGf"
      }
    },
    {
      "cell_type": "markdown",
      "source": [
        "```markdown\n",
        "E[score total] = N × E[score position] = N × (1/4) = N/4\n",
        "```"
      ],
      "metadata": {
        "id": "meF18gt-Mhcn"
      }
    },
    {
      "cell_type": "markdown",
      "source": [
        "Q2. La question précédente peut se resoudre analytiquement car on ne considère pas de trou. Pour étendre le résultat precedent à un alignement avec trous, on va se baser sur la simulation de séquences aleatoires.\n",
        "\n",
        "Générez $R$ paires de séquences aléatoires  de tailles $N$ avec des probabilitées uniformes d'apparition de nucléotides $p_A = p_T = p_G = p_C = $ ¼. Affichez sous forme de violinplots les distribution des scores d'alignements entre chaque paire, obtenu par :\n",
        "  1. un alignement sans trou (cf. Q1) ;\n",
        "  2. un alignement local via Smith-Waterman (utilisez le code de l'exercice précédent)\n",
        "\n",
        "Utilisez le schéma d'évaluation suivant :"
      ],
      "metadata": {
        "id": "fP5_mHnYMkNI"
      }
    },
    {
      "cell_type": "code",
      "source": [
        "rmap = {\"A\": 0, \"T\": 1, \"G\": 2, \"C\": 3}\n",
        "sigma = np.array([[1, -0.5, -0.5, -0.5],\n",
        "                  [-0.5, 1, -0.5, -0.5],\n",
        "                  [-0.5, -0.5, 1, -0.5],\n",
        "                  [-0.5, -0.5, -0.5, 1]])\n",
        "go =0\n",
        "ge = 0.5"
      ],
      "metadata": {
        "id": "akUVqotnOLkH"
      },
      "execution_count": 23,
      "outputs": []
    },
    {
      "cell_type": "code",
      "source": [
        "import numpy as np\n",
        "import matplotlib.pyplot as plt\n",
        "import seaborn as sns\n",
        "from typing import List, Tuple, Dict\n",
        "\n",
        "R = 1000\n",
        "N = 100\n",
        "\n",
        "def generate_random_sequences(n: int, length: int) -> List[Tuple[str, str]]:\n",
        "    \"\"\"Génère n paires de séquences aléatoires de longueur donnée.\"\"\"\n",
        "    nucleotides = ['A', 'T', 'G', 'C']\n",
        "    pairs = []\n",
        "    for _ in range(n):\n",
        "        seq1 = ''.join(np.random.choice(nucleotides, size=length))\n",
        "        seq2 = ''.join(np.random.choice(nucleotides, size=length))\n",
        "        pairs.append((seq1, seq2))\n",
        "    return pairs\n",
        "\n",
        "def score_no_gap(seq1: str, seq2: str) -> float:\n",
        "    \"\"\"Calcule le score d'alignement sans trou.\"\"\"\n",
        "    score = 0\n",
        "    for i in range(min(len(seq1), len(seq2))):\n",
        "        if seq1[i] == seq2[i]:\n",
        "            score += 1\n",
        "    return score\n",
        "\n",
        "def get_sw_score(seq1: str, seq2: str, rmap: Dict[str, int], sigma: np.ndarray, go: float, ge: float) -> float:\n",
        "    \"\"\"Utilise sw_fwd pour calculer le score d'alignement local maximal.\"\"\"\n",
        "    S, _ = sw_fwd(seq1, seq2, rmap, sigma, (go, ge))\n",
        "    return np.max(S)\n",
        "\n",
        "seq_pairs = generate_random_sequences(R, N)\n",
        "\n",
        "scores_no_gap = []\n",
        "scores_local = []\n",
        "\n",
        "for seq1, seq2 in seq_pairs:\n",
        "    scores_no_gap.append(score_no_gap(seq1, seq2))\n",
        "\n",
        "    scores_local.append(get_sw_score(seq1, seq2, rmap, sigma, go, ge))\n",
        "\n",
        "plt.figure(figsize=(10, 6))\n",
        "data = [scores_no_gap, scores_local]\n",
        "labels = ['Alignement sans trou', 'Alignement local (Smith-Waterman)']\n",
        "\n",
        "sns.violinplot(data=data)\n",
        "plt.xticks([0, 1], labels)\n",
        "plt.ylabel('Score d\\'alignement')\n",
        "plt.title(f'Distribution des scores d\\'alignement pour {R} paires de séquences aléatoires de longueur {N}')\n",
        "plt.grid(axis='y', linestyle='--', alpha=0.7)\n",
        "\n",
        "print(f\"Alignement sans trou - Score moyen théorique: {N/4}\")\n",
        "print(f\"Alignement sans trou - Score moyen observé: {np.mean(scores_no_gap):.2f} ± {np.std(scores_no_gap):.2f}\")\n",
        "print(f\"Alignement local - Score moyen observé: {np.mean(scores_local):.2f} ± {np.std(scores_local):.2f}\")\n",
        "\n",
        "plt.show()"
      ],
      "metadata": {
        "id": "UX0afNaqOVZ2",
        "colab": {
          "base_uri": "https://localhost:8080/",
          "height": 597
        },
        "outputId": "322f2b19-451a-4ded-a3e0-45270fb3d3f6"
      },
      "execution_count": 26,
      "outputs": [
        {
          "output_type": "stream",
          "name": "stdout",
          "text": [
            "Alignement sans trou - Score moyen théorique: 25.0\n",
            "Alignement sans trou - Score moyen observé: 24.92 ± 4.28\n",
            "Alignement local - Score moyen observé: 36.00 ± 3.07\n"
          ]
        },
        {
          "output_type": "display_data",
          "data": {
            "text/plain": [
              "<Figure size 1000x600 with 1 Axes>"
            ],
            "image/png": "[encoded data removed]"
          },
          "metadata": {}
        }
      ]
    },
    {
      "cell_type": "markdown",
      "source": [
        "Q3. Qu'observez-vous ?"
      ],
      "metadata": {
        "id": "UNn9fUuXO4Le"
      }
    },
    {
      "cell_type": "markdown",
      "source": [
        "```markdown\n",
        "\n",
        "```"
      ],
      "metadata": {
        "id": "dSQEl0XXO8IG"
      }
    },
    {
      "cell_type": "markdown",
      "source": [
        "Q4. Quelle conclusion peut-on en tirer sur la significativité d'un alignement ?"
      ],
      "metadata": {
        "id": "xHfVXpQhf15n"
      }
    },
    {
      "cell_type": "markdown",
      "source": [
        "```markdown\n",
        "Votre réponse ici\n",
        "```"
      ],
      "metadata": {
        "id": "5KjhEeHDgDns"
      }
    }
  ]
}