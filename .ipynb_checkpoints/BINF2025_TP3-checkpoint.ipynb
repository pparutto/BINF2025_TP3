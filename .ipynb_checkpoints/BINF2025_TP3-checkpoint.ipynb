{
  "nbformat": 4,
  "nbformat_minor": 0,
  "metadata": {
    "colab": {
      "provenance": [],
      "authorship_tag": "ABX9TyNSXnqaXAUgZK9rmJ1TWbGo"
    },
    "kernelspec": {
      "name": "python3",
      "display_name": "Python 3"
    },
    "language_info": {
      "name": "python"
    }
  },
  "cells": [
    {
      "cell_type": "markdown",
      "source": [
        "# BINF TP3 - Algorithmes d'alignement par paire"
      ],
      "metadata": {
        "id": "V09wQ1WIOmgn"
      }
    },
    {
      "cell_type": "markdown",
      "source": [
        "Dans ce TP nous allons manipuler les algorithmes d'alignement par paire."
      ],
      "metadata": {
        "id": "er6CtAyOxC6F"
      }
    },
    {
      "cell_type": "markdown",
      "source": [
        "# Exercice 0 - Echauffement"
      ],
      "metadata": {
        "id": "BqEa3BJ1xICM"
      }
    },
    {
      "cell_type": "markdown",
      "source": [
        "Q1. Donnez le score de la superposition :\n",
        "\n",
        "|       |       |\n",
        "| :---: | :---: |\n",
        "x       | ATGTCATGA---TAC |\n",
        "y       | AT--CTAAATGTTAC |\n",
        "\n",
        "\n",
        "étant donne le schéma d'évaluation :\n",
        "\n",
        "|       | A     | T     | G     | C     |\n",
        "| :---: | :---: | :---: | :---: | :---: |\n",
        "| **A** | 1     | -1    | -1    | -1    |\n",
        "| **T** | -1    | 1     | -1    | -1    |\n",
        "| **G** | -1    | -1    | 1     | -1    |\n",
        "| **C** | -1    | -1    | -1    | 1     |\n",
        "\n",
        "et\n",
        "\n",
        "$\\gamma(g) = 0.5 |g| + 0.5$"
      ],
      "metadata": {
        "id": "qqiiq5bcxYvM"
      }
    },
    {
      "cell_type": "markdown",
      "source": [
        "```markdown\n",
        "Votre réponse ici\n",
        "```"
      ],
      "metadata": {
        "id": "kCJGGGYQ2GNi"
      }
    },
    {
      "cell_type": "markdown",
      "source": [
        "Q2. Alignez les séquences suivantes avec l'algorithme de Levenshtein :  x = ATG et y = ACTG."
      ],
      "metadata": {
        "id": "XyhXAhK-2NKJ"
      }
    },
    {
      "cell_type": "markdown",
      "source": [
        "```markdown\n",
        "Votre réponse ici\n",
        "```"
      ],
      "metadata": {
        "id": "b9iovhyZ2bXw"
      }
    },
    {
      "cell_type": "markdown",
      "source": [
        "Q3.\tAlignez les séquences suivantes avec l'algorithme de Needleman-Wunsch global x = TAT et y = ATGAC en considérant le schéma d'évaluation suivant\n",
        "\n",
        "|       | A       | T       | G       | C     |\n",
        "| :---: | :---:   | :---:   | :---:   | :---: |\n",
        "| **A** | 1       | -0.5    | -0.5    | -0.5  |\n",
        "| **T** | -0.5    | 1       | -0.5    | -0.5  |\n",
        "| **G** | -0.5    | -0.5    | 1       | -0.5  |\n",
        "| **C** | -0.5    | -0.5    | -0.5    | 1     |\n",
        "\n",
        "et\n",
        "\n",
        "$\\gamma(g) = 0.5 |g|$\n"
      ],
      "metadata": {
        "id": "OV_YaQHr2elB"
      }
    },
    {
      "cell_type": "markdown",
      "source": [
        "```markdown\n",
        "Votre réponse ici\n",
        "```"
      ],
      "metadata": {
        "id": "g_MrecVs3Nrw"
      }
    },
    {
      "cell_type": "markdown",
      "source": [
        "Q4. Alignez les séquences suivantes avec l'algorithme de Smith-Waterman x = TTGG y = ATGAC en utilisant le schéma d'évaluation de la question précédente.\n"
      ],
      "metadata": {
        "id": "y1YF-G6E3Qoo"
      }
    },
    {
      "cell_type": "markdown",
      "source": [
        "```markdown\n",
        "Votre réponse ici\n",
        "```"
      ],
      "metadata": {
        "id": "LLMECocb3pgI"
      }
    },
    {
      "cell_type": "markdown",
      "source": [
        "# Exercice 1 : Algorithme de Levenshtein - version récursive"
      ],
      "metadata": {
        "id": "46gw0avh3wGw"
      }
    },
    {
      "cell_type": "markdown",
      "source": [
        "Q1. Ecrivez une fonction\n",
        "\n",
        "levenshtein(x: str, y: str) -> int\n",
        "\n",
        "qui retourne la distance de Levenshtein entre les séquences x et y en utilisant la  version récursive de l'algorithme."
      ],
      "metadata": {
        "id": "ZKc09Kyg4a6v"
      }
    },
    {
      "cell_type": "code",
      "source": [
        "#Votre code ici"
      ],
      "metadata": {
        "id": "FJR69IEQ4aHv"
      },
      "execution_count": null,
      "outputs": []
    },
    {
      "cell_type": "markdown",
      "source": [
        "Q2. Vous pouvez tester votre code sur les exemples suivants:\n",
        "\n",
        "\n",
        "*   $L('CCAG', 'CA') = 2$\n",
        "*   $L('CCGT', 'CGTCA') = 3$\n",
        "*   $L(AY678264^*, OQ870305^*) = 310$\n",
        "\n",
        "$^*$ ids genbank de deux sequences."
      ],
      "metadata": {
        "id": "arFVwA6E5NWn"
      }
    },
    {
      "cell_type": "markdown",
      "source": [
        "# Exercice 2 : Algorithme de Smith-Waterman - version itérative"
      ],
      "metadata": {
        "id": "erCpfG7O7BV-"
      }
    },
    {
      "cell_type": "markdown",
      "source": [
        "Q1. Ecrivez la fonction\n",
        "\n",
        "sw_fwd(x: str, y: str, cmap: dict, sigma: array, (go, ge): list) -> (array, array)\n",
        "\n",
        "qui construit les matrices $S$ et $B$ en utilisant l'algorithme de Smith-Waterman pour aligner les séquences x et y suivant le schéma d'évaluation donné par la matrice de substitution $\\Sigma$ et la fonction d'évaluation des trous $\\gamma(n)= g_o + g_e \\times n$. Le dictionnaire cmap donne la position des différents nucléotides dans la matrice $\\Sigma$. La fonction retourne la paire de matrices de score $S$ et de retour $B$."
      ],
      "metadata": {
        "id": "rv2Y78y37IOd"
      }
    },
    {
      "cell_type": "code",
      "source": [
        "#Votre code ici"
      ],
      "metadata": {
        "id": "njn3JB0b-WHj"
      },
      "execution_count": null,
      "outputs": []
    },
    {
      "cell_type": "markdown",
      "source": [
        "Q2. Ecrivez la fonction\n",
        "\n",
        "sw_bwd(x: str, y: str, S: array, B: array) -> (str, str, float)\n",
        "\n",
        "qui effectue l'etape de retour de l'algorithme de Smith-Waterman etant donné les séquences $x$ et $y$ et les matrices de score $S$ et de retour $B$. La fonction retourne un tuple contenant les alignements des séquences x et y et le score de l'alignement."
      ],
      "metadata": {
        "id": "55n8mt9U-Wai"
      }
    },
    {
      "cell_type": "code",
      "source": [
        "#Votre code ici"
      ],
      "metadata": {
        "id": "ij9JDpBm_UZ7"
      },
      "execution_count": null,
      "outputs": []
    },
    {
      "cell_type": "markdown",
      "source": [
        "Q3. Vous pouvez tester votre code en utilisant le schéma d'évaluation suivant :"
      ],
      "metadata": {
        "id": "kwmxg2dxAiwS"
      }
    },
    {
      "cell_type": "code",
      "source": [
        "cmap = {\"A\": 0, \"T\": 1, \"G\": 2, \"C\": 3}\n",
        "m = np.array([[1, -0.5, -0.5, -0.5],\n",
        "              [-0.5, 1, -0.5, -0.5],\n",
        "              [-0.5, -0.5, 1, -0.5],\n",
        "              [-0.5, -0.5, -0.5, 1]])\n",
        "go = 0\n",
        "ge = 0.5"
      ],
      "metadata": {
        "id": "JUtYRFTBAwwZ"
      },
      "execution_count": null,
      "outputs": []
    },
    {
      "cell_type": "markdown",
      "source": [
        "*   $SW('TCGC', 'CTTAG')$ retourne un score de $1.5$ à la position $(3,5)$ et l'alignement"
      ],
      "metadata": {
        "id": "eMGh4K5aIFxE"
      }
    },
    {
      "cell_type": "code",
      "source": [
        "HTML(\"<table align='left' style='font-family:Courier New'><tr><th>x:</th><th>TCG</th></tr><tr><th>y:</th><th>TAG</th></tr></table>\")"
      ],
      "metadata": {
        "colab": {
          "base_uri": "https://localhost:8080/",
          "height": 60
        },
        "id": "joHNwJ9AIf6F",
        "outputId": "a9206810-a083-4d86-8b14-38183f1dd80c"
      },
      "execution_count": null,
      "outputs": [
        {
          "output_type": "execute_result",
          "data": {
            "text/plain": [
              "<IPython.core.display.HTML object>"
            ],
            "text/html": [
              "<table align='left' style='font-family:Courier New'><tr><th>x:</th><th>TCG</th></tr><tr><th>y:</th><th>TAG</th></tr></table>"
            ]
          },
          "metadata": {},
          "execution_count": 18
        }
      ]
    },
    {
      "cell_type": "markdown",
      "source": [
        "*   $SW(AY678264^*, OQ870305^*)$ retourne un score de $342.1$ à la position $(708,717)$ et l'alignement"
      ],
      "metadata": {
        "id": "JJlU5yvZI43D"
      }
    },
    {
      "cell_type": "code",
      "source": [
        "from IPython.display import HTML\n",
        "HTML(\"<table width='300px' align='left' style='font-family:Courier New'><tr><th>x:</th><th nowrap='nowrap'>ATGGTGAGCAAGGGCGAGGAGGATAACATGGCCATCATCAAGGAGTTCATGCGCTTCAAGGTGC-A-CATGGAGGGCTCCGTGAACGGCCACGAGTTCGAGATCGAG---GGCGAGGGCGAGGGC--CGCC-CCTACGAGGGCACCCAGACCGC-CAAGCTGAAGGTG-ACCA-AGG---G-TGGCC---CCCT-GCCCTTCGCCT-GGGA-CATCCTGTCC--C--C-T-CAGTTCATGT-A-CGGCT-CCAAGGCCTACGTG-A--AGCAC--C--C--C--G-CCGACATCCCCG-A--CTAC-T--TGAAGCTG-TCCTTC--C--C-----CGA-GG--GCTTCAAGTGGGAGCG-CGTGATGAACTTCGAGGACGGCGGCGTGGTG-ACCG--T-GA-C-CCAGGAC-TC--CTCCCTGCAGGACGGCGAGTTCATCTACAAGGTG---AAGCTGCGCGGCACCAACTTCCCCT-CCGACGGCCCCGTA-ATGCA-GAAGAAGACCATGGGCTG--GGA-GGCCTCCTCCGAGCGGATGTACCCCGAGGA-CGGCGCC-CTGAAGGGCGAGATCAAGCAGA-GGCTGAAGC-TGAAGGACGGCGGCCACTACGACGCTGAGGTCAAGACCACCTACA-AGGCCAAGAAG-CCCGTGCAGCTGCCCGGC-GCCTACAACGTCAACATCAAGT-TG----GA-CATCACCTCCCACAACGAGGA-CTAC-A-C-CA---T-C-G-TGGAACAGTACG-AACGCGCCGAGGGCCGCCACTCCAC-CGGCGGCATGGACGAGCTGTACAAG</th></tr><tr><th>y:</th><th>ATGGTGAGCAAGGGCGAGGA-G----C-T-G--TTCA-C-CGG-GGTGGTGCCCATCCTGGT-CGAGC-TGGACGGCGACGTAAACGGCCACAAGTTC-AG--CGTGTCCGGCGAGGGCGAGGGCGATGCCACCTAC---GGCAAGCTGACC-CTGAAG-TTCATTTGCACCACCGGCAAGCTGCCCGTGCCCTGGCCC-AC-CCTCGTGACCACCCTGACCTACGGCGTGCAGTGC-T-TCAGCCGCTACCCCGACC-ACATGAAGCAGCACGACTTCTTCAAGTCCGCCATGCCCGAAGGCTACGTCCAGGAGC-GCACCATCTTCTTCAAGGACGACGGCAACTACAAGA-CCCGCGCCGAGGTGAAGTTCGAGGGCGACACCCTGGTGAACCGCATCGAGCTGAAGGGCATCGACTTCAAGGAGGACGGC-A--ACATC--C-TGGGGCACAAGCTG-G-AGTA-CAACTACAACAGCC-ACAACGTC-TATAT-CATG--GCCGA-CAA--GCAGAAGAACGG-CA--T-C-A-AGG-TGAACTTC-AAGATC--CGCCAC--AA---C---ATCGAG--GACGGC---AGCGTGCAGCTCGCCGACCACTACCA-GC--A-G--AACACC-CC--CATCGGCGACG--GCCCCGTGCTGCTGCCCGACAACC-ACTACCTGAGCACCCAGTCCGCCCTGAGCAA-A-GACCC-CAACGAGAAGC-GCGATCACATGGTCCTGCTGG---AGTTCGTGAC-CGCC----GCCGGGA-T-CACTC-TCGGCATGGACGAGCTGTACAAG</th></tr></table>\")"
      ],
      "metadata": {
        "colab": {
          "base_uri": "https://localhost:8080/",
          "height": 80
        },
        "id": "HUELvWKMFtIO",
        "outputId": "976bab6f-f1fc-4c5a-c69c-8de02fc838d0"
      },
      "execution_count": null,
      "outputs": [
        {
          "output_type": "execute_result",
          "data": {
            "text/plain": [
              "<IPython.core.display.HTML object>"
            ],
            "text/html": [
              "<table width='300px' align='left' style='font-family:Courier New'><tr><th>x:</th><th nowrap='nowrap'>ATGGTGAGCAAGGGCGAGGAGGATAACATGGCCATCATCAAGGAGTTCATGCGCTTCAAGGTGC-A-CATGGAGGGCTCCGTGAACGGCCACGAGTTCGAGATCGAG---GGCGAGGGCGAGGGC--CGCC-CCTACGAGGGCACCCAGACCGC-CAAGCTGAAGGTG-ACCA-AGG---G-TGGCC---CCCT-GCCCTTCGCCT-GGGA-CATCCTGTCC--C--C-T-CAGTTCATGT-A-CGGCT-CCAAGGCCTACGTG-A--AGCAC--C--C--C--G-CCGACATCCCCG-A--CTAC-T--TGAAGCTG-TCCTTC--C--C-----CGA-GG--GCTTCAAGTGGGAGCG-CGTGATGAACTTCGAGGACGGCGGCGTGGTG-ACCG--T-GA-C-CCAGGAC-TC--CTCCCTGCAGGACGGCGAGTTCATCTACAAGGTG---AAGCTGCGCGGCACCAACTTCCCCT-CCGACGGCCCCGTA-ATGCA-GAAGAAGACCATGGGCTG--GGA-GGCCTCCTCCGAGCGGATGTACCCCGAGGA-CGGCGCC-CTGAAGGGCGAGATCAAGCAGA-GGCTGAAGC-TGAAGGACGGCGGCCACTACGACGCTGAGGTCAAGACCACCTACA-AGGCCAAGAAG-CCCGTGCAGCTGCCCGGC-GCCTACAACGTCAACATCAAGT-TG----GA-CATCACCTCCCACAACGAGGA-CTAC-A-C-CA---T-C-G-TGGAACAGTACG-AACGCGCCGAGGGCCGCCACTCCAC-CGGCGGCATGGACGAGCTGTACAAG</th></tr><tr><th>y:</th><th>ATGGTGAGCAAGGGCGAGGA-G----C-T-G--TTCA-C-CGG-GGTGGTGCCCATCCTGGT-CGAGC-TGGACGGCGACGTAAACGGCCACAAGTTC-AG--CGTGTCCGGCGAGGGCGAGGGCGATGCCACCTAC---GGCAAGCTGACC-CTGAAG-TTCATTTGCACCACCGGCAAGCTGCCCGTGCCCTGGCCC-AC-CCTCGTGACCACCCTGACCTACGGCGTGCAGTGC-T-TCAGCCGCTACCCCGACC-ACATGAAGCAGCACGACTTCTTCAAGTCCGCCATGCCCGAAGGCTACGTCCAGGAGC-GCACCATCTTCTTCAAGGACGACGGCAACTACAAGA-CCCGCGCCGAGGTGAAGTTCGAGGGCGACACCCTGGTGAACCGCATCGAGCTGAAGGGCATCGACTTCAAGGAGGACGGC-A--ACATC--C-TGGGGCACAAGCTG-G-AGTA-CAACTACAACAGCC-ACAACGTC-TATAT-CATG--GCCGA-CAA--GCAGAAGAACGG-CA--T-C-A-AGG-TGAACTTC-AAGATC--CGCCAC--AA---C---ATCGAG--GACGGC---AGCGTGCAGCTCGCCGACCACTACCA-GC--A-G--AACACC-CC--CATCGGCGACG--GCCCCGTGCTGCTGCCCGACAACC-ACTACCTGAGCACCCAGTCCGCCCTGAGCAA-A-GACCC-CAACGAGAAGC-GCGATCACATGGTCCTGCTGG---AGTTCGTGAC-CGCC----GCCGGGA-T-CACTC-TCGGCATGGACGAGCTGTACAAG</th></tr></table>"
            ]
          },
          "metadata": {},
          "execution_count": 15
        }
      ]
    },
    {
      "cell_type": "markdown",
      "source": [
        "# Exercice 3 : Distribution des scores d’alignement pour des séquences aléatoires\n",
        "\n",
        "Pour tester si un alignement reflète une réelle similarité biologique, on va évaluer la distribution des scores d’alignement pour des paires de séquences aléatoires."
      ],
      "metadata": {
        "id": "Q5jVeLfgMMtA"
      }
    },
    {
      "cell_type": "markdown",
      "source": [
        "Q1. En considérant deux séquences aléatoires de même taille N, où chaque nucléotide apparaît avec une probabilité uniforme de ¼, calculer le score moyen attendu pour une superposition sans trou dans le cas où une identité vaut +1 et une différence vaut 0."
      ],
      "metadata": {
        "id": "6xyXw0HsMQGf"
      }
    },
    {
      "cell_type": "markdown",
      "source": [
        "```markdown\n",
        "Votre réponse ici\n",
        "```"
      ],
      "metadata": {
        "id": "meF18gt-Mhcn"
      }
    },
    {
      "cell_type": "markdown",
      "source": [
        "Q2. La question précédente peut se resoudre analytiquement car on ne considère pas de trou. Pour étendre le résultat precedent à un alignement avec trous, on va se baser sur la simulation de séquences aleatoires.\n",
        "\n",
        "Générez $R$ paires de séquences aléatoires  de tailles $N$ avec des probabilitées uniformes d'apparition de nucléotides $p_A = p_T = p_G = p_C = $ ¼. Affichez sous forme de violinplots les distribution des scores d'alignements entre chaque paire, obtenu par :\n",
        "  1. un alignement sans trou (cf. Q1) ;\n",
        "  2. un alignement local via Smith-Waterman (utilisez le code de l'exercice précédent)\n",
        "\n",
        "Utilisez le schéma d'évaluation suivant :"
      ],
      "metadata": {
        "id": "fP5_mHnYMkNI"
      }
    },
    {
      "cell_type": "code",
      "source": [
        "rmap = {\"A\": 0, \"T\": 1, \"G\": 2, \"C\": 3}\n",
        "sigma = np.array([[1, -0.5, -0.5, -0.5],\n",
        "                  [-0.5, 1, -0.5, -0.5],\n",
        "                  [-0.5, -0.5, 1, -0.5],\n",
        "                  [-0.5, -0.5, -0.5, 1]])\n",
        "go =0\n",
        "ge = 0.5"
      ],
      "metadata": {
        "id": "akUVqotnOLkH"
      },
      "execution_count": null,
      "outputs": []
    },
    {
      "cell_type": "code",
      "source": [
        "#Votre code ici"
      ],
      "metadata": {
        "id": "UX0afNaqOVZ2"
      },
      "execution_count": null,
      "outputs": []
    },
    {
      "cell_type": "markdown",
      "source": [
        "Q3. Qu'observez-vous ?"
      ],
      "metadata": {
        "id": "UNn9fUuXO4Le"
      }
    },
    {
      "cell_type": "markdown",
      "source": [
        "```markdown\n",
        "Votre réponse ici\n",
        "```"
      ],
      "metadata": {
        "id": "dSQEl0XXO8IG"
      }
    },
    {
      "cell_type": "markdown",
      "source": [
        "Q4. Quelle conclusion peut-on en tirer sur la significativité d'un alignement ?"
      ],
      "metadata": {
        "id": "xHfVXpQhf15n"
      }
    },
    {
      "cell_type": "markdown",
      "source": [
        "```markdown\n",
        "Votre réponse ici\n",
        "```"
      ],
      "metadata": {
        "id": "5KjhEeHDgDns"
      }
    }
  ]
}